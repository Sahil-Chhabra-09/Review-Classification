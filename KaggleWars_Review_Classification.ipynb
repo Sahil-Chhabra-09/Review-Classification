{
  "nbformat": 4,
  "nbformat_minor": 0,
  "metadata": {
    "colab": {
      "provenance": [],
      "authorship_tag": "ABX9TyMBbiiAxNhZLb8j8cfJIrAm",
      "include_colab_link": true
    },
    "kernelspec": {
      "name": "python3",
      "display_name": "Python 3"
    },
    "language_info": {
      "name": "python"
    }
  },
  "cells": [
    {
      "cell_type": "markdown",
      "metadata": {
        "id": "view-in-github",
        "colab_type": "text"
      },
      "source": [
        "<a href=\"https://colab.research.google.com/github/Sahil-Chhabra-09/Review-Classification/blob/main/KaggleWars_Review_Classification.ipynb\" target=\"_parent\"><img src=\"https://colab.research.google.com/assets/colab-badge.svg\" alt=\"Open In Colab\"/></a>"
      ]
    },
    {
      "cell_type": "code",
      "execution_count": null,
      "metadata": {
        "id": "TVKMzl1F1BgD"
      },
      "outputs": [],
      "source": [
        "import pandas as pd"
      ]
    },
    {
      "cell_type": "markdown",
      "source": [
        "## Importing data"
      ],
      "metadata": {
        "id": "lg1akQWu2zot"
      }
    },
    {
      "cell_type": "code",
      "source": [
        "train = pd.read_csv(\"/content/train (1).csv\")"
      ],
      "metadata": {
        "id": "J4BA3Ql3204W"
      },
      "execution_count": null,
      "outputs": []
    },
    {
      "cell_type": "markdown",
      "source": [
        "## Understanding data"
      ],
      "metadata": {
        "id": "Ch2ebtJ526mY"
      }
    },
    {
      "cell_type": "code",
      "source": [
        "train.shape"
      ],
      "metadata": {
        "colab": {
          "base_uri": "https://localhost:8080/"
        },
        "id": "t_9l9_tQ25Fw",
        "outputId": "0d584051-68d9-4032-c6ed-176ef36cbb51"
      },
      "execution_count": null,
      "outputs": [
        {
          "output_type": "execute_result",
          "data": {
            "text/plain": [
              "(21000, 2)"
            ]
          },
          "metadata": {},
          "execution_count": 119
        }
      ]
    },
    {
      "cell_type": "code",
      "source": [
        "train.head()"
      ],
      "metadata": {
        "colab": {
          "base_uri": "https://localhost:8080/",
          "height": 206
        },
        "id": "ZAibykiM29e_",
        "outputId": "9fdb1dee-c083-41a2-8667-07cd21de00a1"
      },
      "execution_count": null,
      "outputs": [
        {
          "output_type": "execute_result",
          "data": {
            "text/plain": [
              "                                              Review  Rating\n",
              "0  Great game when i was a kid I grew up watching...       5\n",
              "1                                          Nice game       1\n",
              "2  Balo game but bholo laguchi khelibaku gote khu...       5\n",
              "3  This is the worst computer cheating game I've ...       1\n",
              "4                                              Great       5"
            ],
            "text/html": [
              "\n",
              "  <div id=\"df-4dff40aa-0098-42f8-a9c1-527cf5d5079d\">\n",
              "    <div class=\"colab-df-container\">\n",
              "      <div>\n",
              "<style scoped>\n",
              "    .dataframe tbody tr th:only-of-type {\n",
              "        vertical-align: middle;\n",
              "    }\n",
              "\n",
              "    .dataframe tbody tr th {\n",
              "        vertical-align: top;\n",
              "    }\n",
              "\n",
              "    .dataframe thead th {\n",
              "        text-align: right;\n",
              "    }\n",
              "</style>\n",
              "<table border=\"1\" class=\"dataframe\">\n",
              "  <thead>\n",
              "    <tr style=\"text-align: right;\">\n",
              "      <th></th>\n",
              "      <th>Review</th>\n",
              "      <th>Rating</th>\n",
              "    </tr>\n",
              "  </thead>\n",
              "  <tbody>\n",
              "    <tr>\n",
              "      <th>0</th>\n",
              "      <td>Great game when i was a kid I grew up watching...</td>\n",
              "      <td>5</td>\n",
              "    </tr>\n",
              "    <tr>\n",
              "      <th>1</th>\n",
              "      <td>Nice game</td>\n",
              "      <td>1</td>\n",
              "    </tr>\n",
              "    <tr>\n",
              "      <th>2</th>\n",
              "      <td>Balo game but bholo laguchi khelibaku gote khu...</td>\n",
              "      <td>5</td>\n",
              "    </tr>\n",
              "    <tr>\n",
              "      <th>3</th>\n",
              "      <td>This is the worst computer cheating game I've ...</td>\n",
              "      <td>1</td>\n",
              "    </tr>\n",
              "    <tr>\n",
              "      <th>4</th>\n",
              "      <td>Great</td>\n",
              "      <td>5</td>\n",
              "    </tr>\n",
              "  </tbody>\n",
              "</table>\n",
              "</div>\n",
              "      <button class=\"colab-df-convert\" onclick=\"convertToInteractive('df-4dff40aa-0098-42f8-a9c1-527cf5d5079d')\"\n",
              "              title=\"Convert this dataframe to an interactive table.\"\n",
              "              style=\"display:none;\">\n",
              "        \n",
              "  <svg xmlns=\"http://www.w3.org/2000/svg\" height=\"24px\"viewBox=\"0 0 24 24\"\n",
              "       width=\"24px\">\n",
              "    <path d=\"M0 0h24v24H0V0z\" fill=\"none\"/>\n",
              "    <path d=\"M18.56 5.44l.94 2.06.94-2.06 2.06-.94-2.06-.94-.94-2.06-.94 2.06-2.06.94zm-11 1L8.5 8.5l.94-2.06 2.06-.94-2.06-.94L8.5 2.5l-.94 2.06-2.06.94zm10 10l.94 2.06.94-2.06 2.06-.94-2.06-.94-.94-2.06-.94 2.06-2.06.94z\"/><path d=\"M17.41 7.96l-1.37-1.37c-.4-.4-.92-.59-1.43-.59-.52 0-1.04.2-1.43.59L10.3 9.45l-7.72 7.72c-.78.78-.78 2.05 0 2.83L4 21.41c.39.39.9.59 1.41.59.51 0 1.02-.2 1.41-.59l7.78-7.78 2.81-2.81c.8-.78.8-2.07 0-2.86zM5.41 20L4 18.59l7.72-7.72 1.47 1.35L5.41 20z\"/>\n",
              "  </svg>\n",
              "      </button>\n",
              "      \n",
              "  <style>\n",
              "    .colab-df-container {\n",
              "      display:flex;\n",
              "      flex-wrap:wrap;\n",
              "      gap: 12px;\n",
              "    }\n",
              "\n",
              "    .colab-df-convert {\n",
              "      background-color: #E8F0FE;\n",
              "      border: none;\n",
              "      border-radius: 50%;\n",
              "      cursor: pointer;\n",
              "      display: none;\n",
              "      fill: #1967D2;\n",
              "      height: 32px;\n",
              "      padding: 0 0 0 0;\n",
              "      width: 32px;\n",
              "    }\n",
              "\n",
              "    .colab-df-convert:hover {\n",
              "      background-color: #E2EBFA;\n",
              "      box-shadow: 0px 1px 2px rgba(60, 64, 67, 0.3), 0px 1px 3px 1px rgba(60, 64, 67, 0.15);\n",
              "      fill: #174EA6;\n",
              "    }\n",
              "\n",
              "    [theme=dark] .colab-df-convert {\n",
              "      background-color: #3B4455;\n",
              "      fill: #D2E3FC;\n",
              "    }\n",
              "\n",
              "    [theme=dark] .colab-df-convert:hover {\n",
              "      background-color: #434B5C;\n",
              "      box-shadow: 0px 1px 3px 1px rgba(0, 0, 0, 0.15);\n",
              "      filter: drop-shadow(0px 1px 2px rgba(0, 0, 0, 0.3));\n",
              "      fill: #FFFFFF;\n",
              "    }\n",
              "  </style>\n",
              "\n",
              "      <script>\n",
              "        const buttonEl =\n",
              "          document.querySelector('#df-4dff40aa-0098-42f8-a9c1-527cf5d5079d button.colab-df-convert');\n",
              "        buttonEl.style.display =\n",
              "          google.colab.kernel.accessAllowed ? 'block' : 'none';\n",
              "\n",
              "        async function convertToInteractive(key) {\n",
              "          const element = document.querySelector('#df-4dff40aa-0098-42f8-a9c1-527cf5d5079d');\n",
              "          const dataTable =\n",
              "            await google.colab.kernel.invokeFunction('convertToInteractive',\n",
              "                                                     [key], {});\n",
              "          if (!dataTable) return;\n",
              "\n",
              "          const docLinkHtml = 'Like what you see? Visit the ' +\n",
              "            '<a target=\"_blank\" href=https://colab.research.google.com/notebooks/data_table.ipynb>data table notebook</a>'\n",
              "            + ' to learn more about interactive tables.';\n",
              "          element.innerHTML = '';\n",
              "          dataTable['output_type'] = 'display_data';\n",
              "          await google.colab.output.renderOutput(dataTable, element);\n",
              "          const docLink = document.createElement('div');\n",
              "          docLink.innerHTML = docLinkHtml;\n",
              "          element.appendChild(docLink);\n",
              "        }\n",
              "      </script>\n",
              "    </div>\n",
              "  </div>\n",
              "  "
            ]
          },
          "metadata": {},
          "execution_count": 120
        }
      ]
    },
    {
      "cell_type": "code",
      "source": [
        "train.Rating.value_counts()"
      ],
      "metadata": {
        "colab": {
          "base_uri": "https://localhost:8080/"
        },
        "id": "yh8WQnmD2-Tt",
        "outputId": "cd1a87ee-4970-45d0-d75c-a1138cb21b20"
      },
      "execution_count": null,
      "outputs": [
        {
          "output_type": "execute_result",
          "data": {
            "text/plain": [
              "5    12376\n",
              "1     4120\n",
              "4     2233\n",
              "3     1369\n",
              "2      902\n",
              "Name: Rating, dtype: int64"
            ]
          },
          "metadata": {},
          "execution_count": 121
        }
      ]
    },
    {
      "cell_type": "code",
      "source": [
        "train.isna().sum()"
      ],
      "metadata": {
        "colab": {
          "base_uri": "https://localhost:8080/"
        },
        "id": "SO17VG4E3NDG",
        "outputId": "281837b3-5531-479e-adb7-9d637a9fb666"
      },
      "execution_count": null,
      "outputs": [
        {
          "output_type": "execute_result",
          "data": {
            "text/plain": [
              "Review    0\n",
              "Rating    0\n",
              "dtype: int64"
            ]
          },
          "metadata": {},
          "execution_count": 122
        }
      ]
    },
    {
      "cell_type": "code",
      "source": [
        "mean_rating = np.mean(train.Rating)"
      ],
      "metadata": {
        "id": "__0W7Khdns7p"
      },
      "execution_count": null,
      "outputs": []
    },
    {
      "cell_type": "code",
      "source": [
        "mean_rating"
      ],
      "metadata": {
        "colab": {
          "base_uri": "https://localhost:8080/"
        },
        "id": "ahwoc32pnytq",
        "outputId": "072ed11e-6ce1-4444-c36f-47d5505021ac"
      },
      "execution_count": null,
      "outputs": [
        {
          "output_type": "execute_result",
          "data": {
            "text/plain": [
              "3.849666666666667"
            ]
          },
          "metadata": {},
          "execution_count": 124
        }
      ]
    },
    {
      "cell_type": "markdown",
      "source": [
        "## Counting frequency of each word to find outliers"
      ],
      "metadata": {
        "id": "P4GfUfoVhO3X"
      }
    },
    {
      "cell_type": "code",
      "source": [
        "import nltk\n",
        "nltk.download('stopwords')\n",
        "from nltk.corpus import stopwords\n",
        "stopwords_english = stopwords.words('english')"
      ],
      "metadata": {
        "colab": {
          "base_uri": "https://localhost:8080/"
        },
        "id": "Ik2oyKKfh2tU",
        "outputId": "1858320a-d09e-46b4-a51d-2e2280ef1b8e"
      },
      "execution_count": null,
      "outputs": [
        {
          "output_type": "stream",
          "name": "stderr",
          "text": [
            "[nltk_data] Downloading package stopwords to /root/nltk_data...\n",
            "[nltk_data]   Package stopwords is already up-to-date!\n"
          ]
        }
      ]
    },
    {
      "cell_type": "code",
      "source": [
        "# from collections import Counter\n",
        "# cnt = Counter()\n",
        "\n",
        "# for text in train.Review:\n",
        "#   for word in text.split():\n",
        "#     if word not in stopwords_english:\n",
        "#       cnt[word]+=1"
      ],
      "metadata": {
        "id": "23o6BCxghYZI"
      },
      "execution_count": null,
      "outputs": []
    },
    {
      "cell_type": "code",
      "source": [
        "# cnt.most_common()[::-1]"
      ],
      "metadata": {
        "id": "b0ibApSAhuiL"
      },
      "execution_count": null,
      "outputs": []
    },
    {
      "cell_type": "code",
      "source": [
        "# custom_stopwords = []\n",
        "# for word in cnt:\n",
        "#   if cnt[word]<2:\n",
        "#     custom_stopwords.append(word)\n",
        "#   if cnt[word]>7000:\n",
        "#     custom_stopwords.append(word)"
      ],
      "metadata": {
        "id": "C2xLot6siqqa"
      },
      "execution_count": null,
      "outputs": []
    },
    {
      "cell_type": "code",
      "source": [
        "# len(custom_stopwords)"
      ],
      "metadata": {
        "id": "GM7Ddpjdizmn"
      },
      "execution_count": null,
      "outputs": []
    },
    {
      "cell_type": "code",
      "source": [
        "# len(stopwords_english)"
      ],
      "metadata": {
        "id": "AF49Yx4ujSZW"
      },
      "execution_count": null,
      "outputs": []
    },
    {
      "cell_type": "code",
      "source": [
        "# stopwords_english.extend(custom_stopwords)"
      ],
      "metadata": {
        "id": "4W-UZ5YCjN_U"
      },
      "execution_count": null,
      "outputs": []
    },
    {
      "cell_type": "code",
      "source": [
        "# len(stopwords_english)"
      ],
      "metadata": {
        "id": "OMlAsY4mjYn5"
      },
      "execution_count": null,
      "outputs": []
    },
    {
      "cell_type": "markdown",
      "source": [
        "## Preprocessing"
      ],
      "metadata": {
        "id": "3Y8eVMPp3Sud"
      }
    },
    {
      "cell_type": "code",
      "source": [
        "from nltk.stem import PorterStemmer\n",
        "from nltk.tokenize import word_tokenize"
      ],
      "metadata": {
        "id": "Ikan1Tpm3fqk"
      },
      "execution_count": null,
      "outputs": []
    },
    {
      "cell_type": "code",
      "source": [
        "train"
      ],
      "metadata": {
        "colab": {
          "base_uri": "https://localhost:8080/",
          "height": 423
        },
        "id": "LQHRz-ex3qtv",
        "outputId": "e884c54b-cc1d-4bbf-f176-ee8b97ff03c5"
      },
      "execution_count": null,
      "outputs": [
        {
          "output_type": "execute_result",
          "data": {
            "text/plain": [
              "                                                  Review  Rating\n",
              "0      Great game when i was a kid I grew up watching...       5\n",
              "1                                              Nice game       1\n",
              "2      Balo game but bholo laguchi khelibaku gote khu...       5\n",
              "3      This is the worst computer cheating game I've ...       1\n",
              "4                                                  Great       5\n",
              "...                                                  ...     ...\n",
              "20995          افضل لعبة و لكن اريد ان يكون شجرة الجواهر       5\n",
              "20996                             Very nice and enjoy!!!       4\n",
              "20997  It has lots of different games depending on yo...       5\n",
              "20998  Has several very frustrating bugs not present ...       3\n",
              "20999  Paying for ads? I paid for no ads, yet I have ...       2\n",
              "\n",
              "[21000 rows x 2 columns]"
            ],
            "text/html": [
              "\n",
              "  <div id=\"df-3356710b-920a-4938-909b-539b52207e5f\">\n",
              "    <div class=\"colab-df-container\">\n",
              "      <div>\n",
              "<style scoped>\n",
              "    .dataframe tbody tr th:only-of-type {\n",
              "        vertical-align: middle;\n",
              "    }\n",
              "\n",
              "    .dataframe tbody tr th {\n",
              "        vertical-align: top;\n",
              "    }\n",
              "\n",
              "    .dataframe thead th {\n",
              "        text-align: right;\n",
              "    }\n",
              "</style>\n",
              "<table border=\"1\" class=\"dataframe\">\n",
              "  <thead>\n",
              "    <tr style=\"text-align: right;\">\n",
              "      <th></th>\n",
              "      <th>Review</th>\n",
              "      <th>Rating</th>\n",
              "    </tr>\n",
              "  </thead>\n",
              "  <tbody>\n",
              "    <tr>\n",
              "      <th>0</th>\n",
              "      <td>Great game when i was a kid I grew up watching...</td>\n",
              "      <td>5</td>\n",
              "    </tr>\n",
              "    <tr>\n",
              "      <th>1</th>\n",
              "      <td>Nice game</td>\n",
              "      <td>1</td>\n",
              "    </tr>\n",
              "    <tr>\n",
              "      <th>2</th>\n",
              "      <td>Balo game but bholo laguchi khelibaku gote khu...</td>\n",
              "      <td>5</td>\n",
              "    </tr>\n",
              "    <tr>\n",
              "      <th>3</th>\n",
              "      <td>This is the worst computer cheating game I've ...</td>\n",
              "      <td>1</td>\n",
              "    </tr>\n",
              "    <tr>\n",
              "      <th>4</th>\n",
              "      <td>Great</td>\n",
              "      <td>5</td>\n",
              "    </tr>\n",
              "    <tr>\n",
              "      <th>...</th>\n",
              "      <td>...</td>\n",
              "      <td>...</td>\n",
              "    </tr>\n",
              "    <tr>\n",
              "      <th>20995</th>\n",
              "      <td>افضل لعبة و لكن اريد ان يكون شجرة الجواهر</td>\n",
              "      <td>5</td>\n",
              "    </tr>\n",
              "    <tr>\n",
              "      <th>20996</th>\n",
              "      <td>Very nice and enjoy!!!</td>\n",
              "      <td>4</td>\n",
              "    </tr>\n",
              "    <tr>\n",
              "      <th>20997</th>\n",
              "      <td>It has lots of different games depending on yo...</td>\n",
              "      <td>5</td>\n",
              "    </tr>\n",
              "    <tr>\n",
              "      <th>20998</th>\n",
              "      <td>Has several very frustrating bugs not present ...</td>\n",
              "      <td>3</td>\n",
              "    </tr>\n",
              "    <tr>\n",
              "      <th>20999</th>\n",
              "      <td>Paying for ads? I paid for no ads, yet I have ...</td>\n",
              "      <td>2</td>\n",
              "    </tr>\n",
              "  </tbody>\n",
              "</table>\n",
              "<p>21000 rows × 2 columns</p>\n",
              "</div>\n",
              "      <button class=\"colab-df-convert\" onclick=\"convertToInteractive('df-3356710b-920a-4938-909b-539b52207e5f')\"\n",
              "              title=\"Convert this dataframe to an interactive table.\"\n",
              "              style=\"display:none;\">\n",
              "        \n",
              "  <svg xmlns=\"http://www.w3.org/2000/svg\" height=\"24px\"viewBox=\"0 0 24 24\"\n",
              "       width=\"24px\">\n",
              "    <path d=\"M0 0h24v24H0V0z\" fill=\"none\"/>\n",
              "    <path d=\"M18.56 5.44l.94 2.06.94-2.06 2.06-.94-2.06-.94-.94-2.06-.94 2.06-2.06.94zm-11 1L8.5 8.5l.94-2.06 2.06-.94-2.06-.94L8.5 2.5l-.94 2.06-2.06.94zm10 10l.94 2.06.94-2.06 2.06-.94-2.06-.94-.94-2.06-.94 2.06-2.06.94z\"/><path d=\"M17.41 7.96l-1.37-1.37c-.4-.4-.92-.59-1.43-.59-.52 0-1.04.2-1.43.59L10.3 9.45l-7.72 7.72c-.78.78-.78 2.05 0 2.83L4 21.41c.39.39.9.59 1.41.59.51 0 1.02-.2 1.41-.59l7.78-7.78 2.81-2.81c.8-.78.8-2.07 0-2.86zM5.41 20L4 18.59l7.72-7.72 1.47 1.35L5.41 20z\"/>\n",
              "  </svg>\n",
              "      </button>\n",
              "      \n",
              "  <style>\n",
              "    .colab-df-container {\n",
              "      display:flex;\n",
              "      flex-wrap:wrap;\n",
              "      gap: 12px;\n",
              "    }\n",
              "\n",
              "    .colab-df-convert {\n",
              "      background-color: #E8F0FE;\n",
              "      border: none;\n",
              "      border-radius: 50%;\n",
              "      cursor: pointer;\n",
              "      display: none;\n",
              "      fill: #1967D2;\n",
              "      height: 32px;\n",
              "      padding: 0 0 0 0;\n",
              "      width: 32px;\n",
              "    }\n",
              "\n",
              "    .colab-df-convert:hover {\n",
              "      background-color: #E2EBFA;\n",
              "      box-shadow: 0px 1px 2px rgba(60, 64, 67, 0.3), 0px 1px 3px 1px rgba(60, 64, 67, 0.15);\n",
              "      fill: #174EA6;\n",
              "    }\n",
              "\n",
              "    [theme=dark] .colab-df-convert {\n",
              "      background-color: #3B4455;\n",
              "      fill: #D2E3FC;\n",
              "    }\n",
              "\n",
              "    [theme=dark] .colab-df-convert:hover {\n",
              "      background-color: #434B5C;\n",
              "      box-shadow: 0px 1px 3px 1px rgba(0, 0, 0, 0.15);\n",
              "      filter: drop-shadow(0px 1px 2px rgba(0, 0, 0, 0.3));\n",
              "      fill: #FFFFFF;\n",
              "    }\n",
              "  </style>\n",
              "\n",
              "      <script>\n",
              "        const buttonEl =\n",
              "          document.querySelector('#df-3356710b-920a-4938-909b-539b52207e5f button.colab-df-convert');\n",
              "        buttonEl.style.display =\n",
              "          google.colab.kernel.accessAllowed ? 'block' : 'none';\n",
              "\n",
              "        async function convertToInteractive(key) {\n",
              "          const element = document.querySelector('#df-3356710b-920a-4938-909b-539b52207e5f');\n",
              "          const dataTable =\n",
              "            await google.colab.kernel.invokeFunction('convertToInteractive',\n",
              "                                                     [key], {});\n",
              "          if (!dataTable) return;\n",
              "\n",
              "          const docLinkHtml = 'Like what you see? Visit the ' +\n",
              "            '<a target=\"_blank\" href=https://colab.research.google.com/notebooks/data_table.ipynb>data table notebook</a>'\n",
              "            + ' to learn more about interactive tables.';\n",
              "          element.innerHTML = '';\n",
              "          dataTable['output_type'] = 'display_data';\n",
              "          await google.colab.output.renderOutput(dataTable, element);\n",
              "          const docLink = document.createElement('div');\n",
              "          docLink.innerHTML = docLinkHtml;\n",
              "          element.appendChild(docLink);\n",
              "        }\n",
              "      </script>\n",
              "    </div>\n",
              "  </div>\n",
              "  "
            ]
          },
          "metadata": {},
          "execution_count": 134
        }
      ]
    },
    {
      "cell_type": "code",
      "source": [
        "import string\n",
        "nltk.download('punkt')"
      ],
      "metadata": {
        "id": "ExEv67cU31ot",
        "colab": {
          "base_uri": "https://localhost:8080/"
        },
        "outputId": "f910d2e4-0bc0-4482-dc30-d2cbafa6648d"
      },
      "execution_count": null,
      "outputs": [
        {
          "output_type": "stream",
          "name": "stderr",
          "text": [
            "[nltk_data] Downloading package punkt to /root/nltk_data...\n",
            "[nltk_data]   Package punkt is already up-to-date!\n"
          ]
        },
        {
          "output_type": "execute_result",
          "data": {
            "text/plain": [
              "True"
            ]
          },
          "metadata": {},
          "execution_count": 135
        }
      ]
    },
    {
      "cell_type": "code",
      "source": [
        "import re\n",
        "def process_review(text):\n",
        "  stemmer = PorterStemmer()\n",
        "  # text = re.sub(r'\\b\\w\\b', ' ', text)\n",
        "  # text = re.sub(\"[ \\d+| \\d+ ]\",' ',text)\n",
        "  # text = re.sub(r\"\\.+\",' ', text)\n",
        "  text = text.lower()\n",
        "  text_tokens = word_tokenize(text)\n",
        "  text_clean = []\n",
        "  for word in text_tokens:\n",
        "    if (word not in stopwords_english and word not in string.punctuation):\n",
        "      stem_word = stemmer.stem(word)\n",
        "      text_clean.append(word)\n",
        "  return text_clean"
      ],
      "metadata": {
        "id": "kud6sb-04Gj5"
      },
      "execution_count": null,
      "outputs": []
    },
    {
      "cell_type": "code",
      "source": [
        "process_review(train.Review[0])[:15]"
      ],
      "metadata": {
        "colab": {
          "base_uri": "https://localhost:8080/"
        },
        "id": "kh0FYWeR4vyn",
        "outputId": "d4de4d9d-c5e0-48b9-9456-70da8c03a3ad"
      },
      "execution_count": null,
      "outputs": [
        {
          "output_type": "execute_result",
          "data": {
            "text/plain": [
              "['great',\n",
              " 'game',\n",
              " 'kid',\n",
              " 'grew',\n",
              " 'watching',\n",
              " 'pokémon',\n",
              " 'buying',\n",
              " 'pokemon',\n",
              " 'cards',\n",
              " 'kid',\n",
              " 'play',\n",
              " 'catch',\n",
              " 'pokémon',\n",
              " 'saw',\n",
              " 'tv']"
            ]
          },
          "metadata": {},
          "execution_count": 137
        }
      ]
    },
    {
      "cell_type": "markdown",
      "source": [
        "## Creating a dictionary which contains key as: (word, review) and value as their frequency"
      ],
      "metadata": {
        "id": "bj6U2WEt5XwG"
      }
    },
    {
      "cell_type": "code",
      "source": [
        "import numpy as np"
      ],
      "metadata": {
        "id": "lGA8vh7c6BIA"
      },
      "execution_count": null,
      "outputs": []
    },
    {
      "cell_type": "code",
      "source": [
        "def build_freqs(all_reviews, ratings):\n",
        "  rat_list = np.squeeze(ratings).tolist()\n",
        "  freqs = {}\n",
        "  for rat,review in zip(rat_list, all_reviews):\n",
        "    for word in process_review(review):\n",
        "      pair = (word, rat)\n",
        "      if(pair in freqs):\n",
        "        freqs[pair]+=1\n",
        "      else:\n",
        "        freqs[pair] = 1\n",
        "  return freqs"
      ],
      "metadata": {
        "id": "_FEdvkMQ5dpR"
      },
      "execution_count": null,
      "outputs": []
    },
    {
      "cell_type": "code",
      "source": [
        "freqs = build_freqs(train.Review, train.Rating)"
      ],
      "metadata": {
        "id": "CWPaRsi46YTq"
      },
      "execution_count": null,
      "outputs": []
    },
    {
      "cell_type": "code",
      "source": [
        "freqs"
      ],
      "metadata": {
        "id": "ny6doRI36cG1",
        "colab": {
          "base_uri": "https://localhost:8080/"
        },
        "outputId": "0f9e34ac-12a4-4ca1-d415-de82864e4f2a"
      },
      "execution_count": null,
      "outputs": [
        {
          "output_type": "execute_result",
          "data": {
            "text/plain": [
              "{('great', 5): 782,\n",
              " ('game', 5): 7039,\n",
              " ('kid', 5): 31,\n",
              " ('grew', 5): 6,\n",
              " ('watching', 5): 17,\n",
              " ('pokémon', 5): 6,\n",
              " ('buying', 5): 2,\n",
              " ('pokemon', 5): 51,\n",
              " ('cards', 5): 8,\n",
              " ('play', 5): 912,\n",
              " ('catch', 5): 4,\n",
              " ('saw', 5): 2,\n",
              " ('tv', 5): 39,\n",
              " ('like', 5): 882,\n",
              " ('generation', 5): 2,\n",
              " ('released', 5): 3,\n",
              " ('far', 5): 97,\n",
              " ('ca', 5): 163,\n",
              " (\"n't\", 5): 601,\n",
              " ('wait', 5): 12,\n",
              " ('shiny', 5): 2,\n",
              " ('introduce', 5): 4,\n",
              " ('mons', 5): 2,\n",
              " ('especially', 5): 22,\n",
              " ('new', 5): 204,\n",
              " ('megas', 5): 2,\n",
              " ('nice', 1): 57,\n",
              " ('game', 1): 2613,\n",
              " ('balo', 5): 4,\n",
              " ('bholo', 5): 4,\n",
              " ('laguchi', 5): 4,\n",
              " ('khelibaku', 5): 4,\n",
              " ('gote', 5): 4,\n",
              " ('khusi', 5): 4,\n",
              " ('au', 5): 4,\n",
              " ('dekhiba', 5): 4,\n",
              " ('eta', 5): 4,\n",
              " ('kete', 5): 4,\n",
              " ('dino', 5): 4,\n",
              " ('chaluchi', 5): 4,\n",
              " ('worst', 1): 207,\n",
              " ('computer', 1): 32,\n",
              " ('cheating', 1): 27,\n",
              " (\"'ve\", 1): 93,\n",
              " ('ever', 1): 160,\n",
              " ('played', 1): 102,\n",
              " ('unfortunately', 1): 3,\n",
              " ('paid', 1): 67,\n",
              " ('for.i', 1): 3,\n",
              " ('1', 1): 110,\n",
              " ('20', 1): 25,\n",
              " ('games', 1): 160,\n",
              " ('opponent.the', 1): 3,\n",
              " ('lands', 1): 3,\n",
              " ('go', 1): 113,\n",
              " ('chance', 1): 12,\n",
              " ('commchest', 1): 3,\n",
              " ('nearly', 1): 19,\n",
              " ('every', 1): 170,\n",
              " ('roll.you', 1): 3,\n",
              " ('roll', 1): 9,\n",
              " ('numbers', 1): 10,\n",
              " ('possible', 1): 11,\n",
              " ('time.resulting', 1): 3,\n",
              " ('loss', 1): 7,\n",
              " ('understand', 1): 14,\n",
              " ('algorithm', 1): 5,\n",
              " ('supposed', 1): 13,\n",
              " ('create', 1): 23,\n",
              " ('challenge', 1): 7,\n",
              " ('feel', 1): 29,\n",
              " ('cheated', 1): 6,\n",
              " ('game.i', 1): 3,\n",
              " ('deleting', 1): 11,\n",
              " ('right', 1): 46,\n",
              " ('request', 1): 10,\n",
              " ('refund', 1): 39,\n",
              " ('update', 1): 346,\n",
              " ('read', 1): 9,\n",
              " ('comments', 1): 3,\n",
              " ('terrible', 1): 88,\n",
              " ('..', 1): 167,\n",
              " (\"'s\", 4): 456,\n",
              " ('good', 4): 598,\n",
              " ('port', 4): 31,\n",
              " ('controls', 4): 47,\n",
              " ('bit', 4): 41,\n",
              " ('clunky', 4): 2,\n",
              " ('100', 5): 33,\n",
              " ('awesome', 5): 366,\n",
              " ('love', 5): 1633,\n",
              " ('triste', 5): 4,\n",
              " ('gametos', 5): 4,\n",
              " ('behetereen', 5): 3,\n",
              " ('hai', 5): 70,\n",
              " ('sab', 5): 3,\n",
              " ('seedhe', 5): 3,\n",
              " ('tehelte', 5): 3,\n",
              " ('rehte', 5): 3,\n",
              " ('matchmaking', 1): 60,\n",
              " ('7', 1): 17,\n",
              " ('straight', 1): 15,\n",
              " ('one', 1): 198,\n",
              " ('teammates', 1): 22,\n",
              " ('gets', 1): 44,\n",
              " ('afk', 1): 28,\n",
              " ('abandoned', 1): 4,\n",
              " ('match', 1): 95,\n",
              " ('emerald', 1): 6,\n",
              " ('rank', 1): 48,\n",
              " ('tier', 1): 16,\n",
              " ('getting', 2): 37,\n",
              " ('banned', 2): 6,\n",
              " ('easy', 2): 4,\n",
              " ('simply', 2): 9,\n",
              " ('disconnect', 2): 2,\n",
              " ('2minutes', 2): 2,\n",
              " ('removed', 2): 2,\n",
              " ('match', 2): 34,\n",
              " ('riot', 2): 2,\n",
              " ('server', 2): 13,\n",
              " ('wallah', 2): 2,\n",
              " ('...', 2): 66,\n",
              " (\"'ve\", 2): 31,\n",
              " ('x', 2): 5,\n",
              " ('amount', 2): 8,\n",
              " ('time', 2): 80,\n",
              " ('really', 5): 476,\n",
              " ('best', 5): 1291,\n",
              " ('mobile', 5): 237,\n",
              " ('god', 5): 54,\n",
              " ('good', 5): 2274,\n",
              " ('game🎮🎲', 5): 3,\n",
              " ('sucks', 1): 88,\n",
              " ('much', 5): 368,\n",
              " ('cute', 5): 33,\n",
              " ('wish', 1): 33,\n",
              " ('could', 1): 121,\n",
              " ('use', 1): 133,\n",
              " ('literally', 1): 36,\n",
              " ('anything', 1): 70,\n",
              " ('else', 1): 29,\n",
              " ('china', 1): 12,\n",
              " ('started', 4): 20,\n",
              " ('fun', 4): 304,\n",
              " ('review', 4): 10,\n",
              " ('lane', 4): 2,\n",
              " ('master', 5): 9,\n",
              " ('review', 1): 27,\n",
              " ('broke', 1): 7,\n",
              " ('since', 1): 108,\n",
              " ('4.0', 1): 7,\n",
              " ('either', 1): 19,\n",
              " ('problems', 1): 42,\n",
              " ('recent', 1): 16,\n",
              " ('fixed', 1): 33,\n",
              " ('server', 1): 41,\n",
              " ('lagg', 1): 3,\n",
              " ('ms', 1): 7,\n",
              " ('spiking', 1): 3,\n",
              " ('black', 1): 23,\n",
              " ('screen', 1): 101,\n",
              " ('loading', 1): 39,\n",
              " ('issues', 1): 73,\n",
              " ('etc', 1): 10,\n",
              " ('love', 1): 92,\n",
              " (\"'s\", 1): 489,\n",
              " ('rated', 1): 3,\n",
              " ('low', 1): 41,\n",
              " ('league', 1): 19,\n",
              " ('legends', 1): 9,\n",
              " ('better', 1): 89,\n",
              " ('optimized', 1): 5,\n",
              " ('riot', 1): 37,\n",
              " ('ur', 1): 16,\n",
              " ('serious', 1): 9,\n",
              " ('wild', 1): 18,\n",
              " ('rift', 1): 16,\n",
              " ('waste', 1): 104,\n",
              " ('time', 1): 325,\n",
              " ('fix', 1): 258,\n",
              " ('plz', 1): 25,\n",
              " ('lags', 1): 38,\n",
              " ('...', 1): 229,\n",
              " ('things', 1): 33,\n",
              " ('make', 1): 138,\n",
              " ('unplayable', 1): 42,\n",
              " ('want', 1): 124,\n",
              " ('able', 1): 68,\n",
              " ('play', 1): 536,\n",
              " ('ca', 1): 397,\n",
              " (\"n't\", 1): 1159,\n",
              " ('duty', 1): 6,\n",
              " ('game', 4): 1548,\n",
              " ('whole', 4): 6,\n",
              " ('keeps', 4): 33,\n",
              " ('freezing', 4): 7,\n",
              " ('updated', 4): 18,\n",
              " ('everything', 4): 40,\n",
              " ('sit', 4): 3,\n",
              " ('hour', 4): 10,\n",
              " ('freeze', 4): 7,\n",
              " ('waste', 4): 10,\n",
              " ('time', 4): 151,\n",
              " ('players', 4): 97,\n",
              " ('please', 4): 164,\n",
              " ('fix', 4): 142,\n",
              " ('op', 5): 98,\n",
              " ('people', 5): 84,\n",
              " ('saying', 5): 24,\n",
              " (\"'s\", 5): 1205,\n",
              " ('pay', 5): 57,\n",
              " ('win', 5): 57,\n",
              " ('matches', 5): 11,\n",
              " ('8', 5): 37,\n",
              " ('straight', 5): 11,\n",
              " ('right', 5): 39,\n",
              " ('spent', 5): 17,\n",
              " ('cent', 5): 3,\n",
              " ('anybody', 5): 3,\n",
              " (\"'m\", 5): 278,\n",
              " ('superhuman', 5): 3,\n",
              " ('stop', 5): 45,\n",
              " ('blaming', 5): 3,\n",
              " ('try', 5): 83,\n",
              " ('get', 5): 347,\n",
              " ('better', 5): 178,\n",
              " ('also', 5): 197,\n",
              " ('bad', 5): 49,\n",
              " ('practice', 5): 7,\n",
              " ('always', 5): 125,\n",
              " ('make', 5): 224,\n",
              " ('pro', 5): 23,\n",
              " ('give', 5): 186,\n",
              " ('tbh', 5): 8,\n",
              " ('game', 3): 1087,\n",
              " ('keeps', 3): 30,\n",
              " ('restarting', 3): 4,\n",
              " ('use', 3): 68,\n",
              " ('another', 3): 21,\n",
              " ('app', 3): 52,\n",
              " ('long', 3): 39,\n",
              " ('keep', 3): 47,\n",
              " ('losing', 3): 11,\n",
              " ('progress', 3): 28,\n",
              " ('didnt', 3): 8,\n",
              " ('dont', 3): 19,\n",
              " ('know', 3): 37,\n",
              " ('issue', 3): 54,\n",
              " ('tips', 3): 4,\n",
              " ('super', 5): 272,\n",
              " ('fuccest', 1): 3,\n",
              " ('......', 1): 5,\n",
              " ('hack', 1): 18,\n",
              " ('phone', 1): 198,\n",
              " ('damage', 1): 16,\n",
              " ('seriously', 1): 8,\n",
              " ('good', 1): 294,\n",
              " ('let', 1): 105,\n",
              " ('us', 1): 57,\n",
              " ('win', 1): 112,\n",
              " ('shot', 1): 7,\n",
              " ('subway', 1): 3,\n",
              " ('surfers', 1): 3,\n",
              " ('best', 1): 73,\n",
              " ('free', 1): 93,\n",
              " ('fire', 1): 21,\n",
              " ('download', 1): 133,\n",
              " ('never', 1): 111,\n",
              " ('great', 4): 226,\n",
              " ('problem', 4): 135,\n",
              " ('keep', 4): 19,\n",
              " ('crashing', 4): 5,\n",
              " ('every', 4): 57,\n",
              " ('single', 4): 8,\n",
              " ('opened', 4): 3,\n",
              " ('app', 4): 45,\n",
              " ('surely', 4): 3,\n",
              " ('rate', 4): 18,\n",
              " ('5', 4): 41,\n",
              " ('star', 4): 46,\n",
              " ('football', 1): 7,\n",
              " ('would', 1): 142,\n",
              " ('rate', 1): 38,\n",
              " ('-5.', 1): 2,\n",
              " ('vsa', 1): 2,\n",
              " ('ends', 1): 7,\n",
              " ('scored', 1): 2,\n",
              " ('goals', 1): 2,\n",
              " ('says', 1): 48,\n",
              " ('gives', 1): 19,\n",
              " ('10', 1): 48,\n",
              " ('secs', 1): 5,\n",
              " ('opponent', 1): 12,\n",
              " ('tie', 1): 5,\n",
              " ('everytime', 1): 38,\n",
              " ('get', 1): 435,\n",
              " ('0-0', 1): 3,\n",
              " ('kill', 1): 15,\n",
              " ('ties', 1): 3,\n",
              " ('gone', 1): 37,\n",
              " ('new', 1): 222,\n",
              " ('3/27/23', 1): 3,\n",
              " ('absolute', 1): 9,\n",
              " ('trash', 1): 90,\n",
              " ('playing', 1): 214,\n",
              " ('launch', 1): 10,\n",
              " ('finally', 1): 30,\n",
              " ('uninstall', 1): 33,\n",
              " ('unless', 1): 19,\n",
              " ('revert', 1): 5,\n",
              " ('2v2', 1): 44,\n",
              " ('mode', 1): 64,\n",
              " ('pakistan', 5): 3,\n",
              " ('🇵🇰', 5): 3,\n",
              " ('know', 5): 78,\n",
              " ('say', 5): 94,\n",
              " ('amazing', 5): 457,\n",
              " ('even', 5): 173,\n",
              " ('though', 5): 73,\n",
              " ('needs', 5): 26,\n",
              " ('544', 5): 2,\n",
              " ('mili', 5): 2,\n",
              " ('bytes', 5): 2,\n",
              " (\"'ve\", 5): 169,\n",
              " ('clear', 5): 6,\n",
              " ('4', 5): 42,\n",
              " ('gigabytes', 5): 2,\n",
              " ('redownload', 5): 6,\n",
              " ('pay', 1): 119,\n",
              " ('ad', 1): 178,\n",
              " ('version', 1): 98,\n",
              " ('taken', 1): 15,\n",
              " ('away', 1): 26,\n",
              " ('stupid', 1): 75,\n",
              " ('asked', 1): 10,\n",
              " ('bring', 1): 10,\n",
              " ('back', 1): 186,\n",
              " ('unalive', 1): 3,\n",
              " ('fun', 5): 1199,\n",
              " ('addictive', 5): 80,\n",
              " ('kind', 5): 37,\n",
              " ('favors', 5): 3,\n",
              " ('ai', 5): 19,\n",
              " ('comes', 5): 12,\n",
              " ('winning', 5): 3,\n",
              " ('f2p', 5): 11,\n",
              " ('friendly', 5): 12,\n",
              " ('characters', 5): 88,\n",
              " ('design', 5): 15,\n",
              " ('cool', 5): 341,\n",
              " ('mechanics', 5): 13,\n",
              " ('easy', 5): 114,\n",
              " ('understand', 5): 15,\n",
              " ('mostly', 5): 8,\n",
              " ('story', 5): 63,\n",
              " ('👌', 5): 87,\n",
              " ('🎮', 5): 44,\n",
              " ('playing', 5): 466,\n",
              " ('5years', 5): 4,\n",
              " ('downloaded', 1): 34,\n",
              " ('even', 1): 374,\n",
              " ('opening', 1): 33,\n",
              " ('stucks', 1): 2,\n",
              " ('downloading', 1): 27,\n",
              " ('necessary', 1): 5,\n",
              " ('data', 1): 80,\n",
              " ('2', 1): 51,\n",
              " ('error', 1): 56,\n",
              " ('compatible', 1): 8,\n",
              " ('accessories', 1): 2,\n",
              " ('waiting', 1): 29,\n",
              " ('wifi', 1): 39,\n",
              " ('freezes', 1): 23,\n",
              " ('cant', 1): 138,\n",
              " ('net', 1): 4,\n",
              " ('much', 1): 166,\n",
              " ('non', 1): 13,\n",
              " ('removable', 1): 4,\n",
              " ('🤬🤬🤬🤬🤬🤬🤬🤬🤬', 1): 4,\n",
              " ('one', 5): 432,\n",
              " ('time', 5): 363,\n",
              " ('favorites', 5): 9,\n",
              " ('final', 5): 47,\n",
              " ('fantasy', 5): 48,\n",
              " ('saga', 5): 8,\n",
              " ('first', 5): 90,\n",
              " ('played', 5): 278,\n",
              " ('years', 5): 176,\n",
              " ('ago', 5): 25,\n",
              " ('still', 5): 225,\n",
              " ('excellently', 5): 4,\n",
              " ('superb', 5): 59,\n",
              " ('storyline', 5): 19,\n",
              " ('yea', 5): 7,\n",
              " ('graphics', 5): 234,\n",
              " ('back', 5): 172,\n",
              " ('could', 5): 88,\n",
              " ('tech', 5): 8,\n",
              " ('want', 5): 164,\n",
              " ('port', 5): 58,\n",
              " ('10', 5): 61,\n",
              " ('store', 5): 26,\n",
              " ('would', 5): 210,\n",
              " ('incredibly', 5): 11,\n",
              " ('hint', 5): 8,\n",
              " ('anyone', 5): 26,\n",
              " ('type', 5): 21,\n",
              " ('stuff', 5): 35,\n",
              " ('sees', 5): 4,\n",
              " ('7', 5): 49,\n",
              " ('9', 5): 57,\n",
              " ('10-2', 5): 4,\n",
              " ('rok', 5): 4,\n",
              " ('satisfying', 5): 11,\n",
              " ('ever', 5): 501,\n",
              " ('useless', 1): 62,\n",
              " ('add', 1): 51,\n",
              " ('30', 1): 19,\n",
              " ('seconds', 1): 9,\n",
              " ('poor', 1): 30,\n",
              " ('perfect', 5): 108,\n",
              " ('buff', 5): 4,\n",
              " ('tick', 5): 4,\n",
              " ('soon', 5): 37,\n",
              " ('take', 5): 49,\n",
              " ('anymore', 5): 21,\n",
              " ('thank', 5): 139,\n",
              " ('services', 5): 4,\n",
              " ('bye', 5): 15,\n",
              " ('veryyyyyyyyyyyy', 5): 4,\n",
              " ('superrrrrrrrr', 5): 4,\n",
              " ('...', 5): 172,\n",
              " ('opa', 5): 4,\n",
              " ('csr2', 5): 3,\n",
              " ('review', 5): 46,\n",
              " ('pretty', 5): 59,\n",
              " ('opinion', 5): 26,\n",
              " ('everything', 5): 75,\n",
              " ('u', 5): 211,\n",
              " ('need', 5): 126,\n",
              " ('drive', 5): 3,\n",
              " ('vehicle', 5): 12,\n",
              " ('manual', 5): 3,\n",
              " ('launch', 5): 7,\n",
              " ('cars', 5): 57,\n",
              " ('annoying', 5): 28,\n",
              " ('thanks', 5): 107,\n",
              " ('listening', 5): 3,\n",
              " ('dont', 1): 78,\n",
              " ('like', 1): 276,\n",
              " ('app', 1): 355,\n",
              " ('hate', 1): 83,\n",
              " ('many', 1): 165,\n",
              " ('ads😡', 1): 2,\n",
              " ('sega', 1): 3,\n",
              " ('startup', 1): 6,\n",
              " ('epic', 5): 33,\n",
              " ('❤️\\u200d🔥❤️\\u200d🔥❤️\\u200d🔥', 5): 2,\n",
              " ('every', 5): 130,\n",
              " ('sonic', 5): 115,\n",
              " ('mario', 5): 10,\n",
              " ('minecraft', 5): 98,\n",
              " ('added', 5): 23,\n",
              " ('19000008000000000002555', 5): 3,\n",
              " ('stars', 5): 167,\n",
              " ('oh', 5): 23,\n",
              " ('got', 5): 132,\n",
              " ('many', 5): 142,\n",
              " ('letters', 5): 3,\n",
              " ('add', 5): 180,\n",
              " ('3', 5): 113,\n",
              " ('debug', 5): 3,\n",
              " ('mode', 5): 73,\n",
              " ('glitches', 5): 32,\n",
              " ('jinx😍😍', 5): 3,\n",
              " ('👍', 5): 162,\n",
              " ('favorite', 5): 122,\n",
              " ('butt', 5): 9,\n",
              " ('guys', 5): 61,\n",
              " ('made', 5): 95,\n",
              " ('funner', 5): 4,\n",
              " ('easier', 5): 23,\n",
              " ('clean', 5): 9,\n",
              " ('wanted', 5): 20,\n",
              " ('smooth', 5): 29,\n",
              " ('alone', 5): 5,\n",
              " ('friend', 5): 37,\n",
              " ('trips', 5): 8,\n",
              " ('otherwise', 5): 20,\n",
              " ('passing', 5): 4,\n",
              " ('giving', 5): 57,\n",
              " ('childhood', 5): 75,\n",
              " ('fits', 5): 4,\n",
              " ('pocket', 5): 6,\n",
              " ('job', 5): 19,\n",
              " ('definitely', 5): 52,\n",
              " ('recommend', 5): 104,\n",
              " ('💯', 5): 13,\n",
              " ('😉', 5): 30,\n",
              " ('experience', 5): 79,\n",
              " ('el', 5): 10,\n",
              " ('primo', 5): 4,\n",
              " ('soy', 5): 4,\n",
              " ('mejor', 5): 4,\n",
              " ('takes', 5): 64,\n",
              " ('lot', 5): 144,\n",
              " ('patience', 5): 7,\n",
              " ('get', 3): 215,\n",
              " ('better', 3): 54,\n",
              " ('community', 3): 7,\n",
              " ('skill', 3): 10,\n",
              " ('match', 3): 35,\n",
              " ('making', 3): 18,\n",
              " ('reason', 5): 18,\n",
              " ('explain', 5): 16,\n",
              " ('herobrine', 5): 3,\n",
              " ('call', 5): 21,\n",
              " ('name', 5): 24,\n",
              " (\"'re\", 3): 29,\n",
              " ('difficulty', 3): 2,\n",
              " ('levels', 3): 12,\n",
              " ('clearly', 3): 6,\n",
              " ('rigged', 3): 6,\n",
              " ('summon', 2): 4,\n",
              " ('rates', 2): 3,\n",
              " ('dismal', 2): 3,\n",
              " ('especially', 2): 10,\n",
              " ('ultra', 2): 7,\n",
              " ('banners', 2): 3,\n",
              " ('rage', 1): 14,\n",
              " ('quitting', 1): 7,\n",
              " ('wantedly', 1): 4,\n",
              " ('makes', 1): 65,\n",
              " ('device', 1): 36,\n",
              " ('lag', 1): 63,\n",
              " ('defeat', 1): 4,\n",
              " ('classic', 1): 23,\n",
              " ('😡', 1): 15,\n",
              " ('nice', 5): 1047,\n",
              " ('shooting', 5): 8,\n",
              " ('real', 5): 58,\n",
              " ('favour', 5): 4,\n",
              " ('next', 5): 37,\n",
              " ('update', 5): 175,\n",
              " ('vehicles', 5): 8,\n",
              " ('crazy', 5): 6,\n",
              " ('need', 4): 88,\n",
              " ('choice', 4): 6,\n",
              " ('watch', 4): 11,\n",
              " ('vids', 4): 3,\n",
              " ('often', 4): 12,\n",
              " ('beautiful', 5): 74,\n",
              " ('2nd', 5): 8,\n",
              " ('5', 5): 194,\n",
              " ('bcz', 5): 4,\n",
              " ('bedwars', 5): 15,\n",
              " ('10/10', 5): 37,\n",
              " ('plise', 5): 3,\n",
              " ('100000', 5): 3,\n",
              " ('gams', 5): 3,\n",
              " ('uor', 5): 3,\n",
              " ('old', 5): 87,\n",
              " ('plaer', 5): 3,\n",
              " ('ul', 5): 5,\n",
              " ('crter', 5): 3,\n",
              " ('please', 5): 382,\n",
              " ('money', 5): 65,\n",
              " ('work', 5): 75,\n",
              " ('phone', 5): 156,\n",
              " (\"'d\", 5): 30,\n",
              " ('hearing', 5): 3,\n",
              " ('lawyers', 5): 3,\n",
              " ('bad', 3): 50,\n",
              " ('ads', 3): 79,\n",
              " ('pop', 3): 4,\n",
              " ('legendary', 5): 37,\n",
              " ('hate', 5): 23,\n",
              " ('fact', 5): 19,\n",
              " ('spending', 5): 2,\n",
              " ('20000cc', 5): 2,\n",
              " ('ultra', 5): 54,\n",
              " ('goku', 5): 38,\n",
              " ('black', 5): 23,\n",
              " ('earn', 1): 6,\n",
              " ('500+/1000', 1): 2,\n",
              " ('coins', 1): 29,\n",
              " ('total', 1): 14,\n",
              " ('shows', 1): 36,\n",
              " ('400/500', 1): 2,\n",
              " ('happening', 1): 9,\n",
              " ('35000+', 1): 2,\n",
              " ('showing', 1): 28,\n",
              " ('2000.', 1): 2,\n",
              " ('enter', 1): 14,\n",
              " ('different', 1): 16,\n",
              " ('1000', 1): 5,\n",
              " ('500', 1): 2,\n",
              " ('next', 1): 15,\n",
              " ('800', 1): 6,\n",
              " ('buy', 1): 86,\n",
              " ('features', 1): 16,\n",
              " ('effort', 1): 5,\n",
              " ('put', 1): 59,\n",
              " ('showdown', 1): 3,\n",
              " ('consuming', 5): 5,\n",
              " ('best', 4): 87,\n",
              " ('mobile', 4): 65,\n",
              " ('gta', 4): 10,\n",
              " (\"'ll\", 4): 33,\n",
              " ('ever', 4): 39,\n",
              " ('get', 4): 155,\n",
              " (\"'re\", 4): 18,\n",
              " ('minimal', 4): 3,\n",
              " ('lacks', 4): 3,\n",
              " ('ignored', 4): 3,\n",
              " ('.....', 4): 5,\n",
              " ('waiting', 4): 16,\n",
              " ('gta4', 4): 3,\n",
              " ('play', 4): 261,\n",
              " ('android', 4): 6,\n",
              " ('top', 5): 49,\n",
              " ('of25', 5): 3,\n",
              " ('hasseb', 3): 3,\n",
              " ('interesting', 3): 6,\n",
              " ('impressive', 3): 3,\n",
              " ('boys', 5): 7,\n",
              " ('girls', 5): 7,\n",
              " ('rate', 5): 49,\n",
              " ('5/5', 5): 17,\n",
              " ('retro', 5): 7,\n",
              " ('games', 5): 424,\n",
              " ('use', 5): 93,\n",
              " ('ps4', 5): 28,\n",
              " ('controller', 5): 51,\n",
              " ('issues', 5): 32,\n",
              " ('lag', 5): 52,\n",
              " ('earlier', 1): 4,\n",
              " ('levels', 1): 30,\n",
              " ('ridiculously', 1): 4,\n",
              " ('hard', 1): 81,\n",
              " ('forced', 1): 31,\n",
              " ('boosters', 1): 12,\n",
              " ('complete', 1): 24,\n",
              " ('accrued', 1): 4,\n",
              " ('candy', 1): 6,\n",
              " ('crush', 1): 6,\n",
              " ('sadly', 1): 8,\n",
              " ('hill', 1): 4,\n",
              " ('🥺', 1): 4,\n",
              " ('ok', 4): 27,\n",
              " ('gameplay', 4): 31,\n",
              " ('sometimes', 5): 43,\n",
              " ('lags', 5): 21,\n",
              " ('area', 5): 14,\n",
              " ('jym', 5): 2,\n",
              " ('hard', 5): 108,\n",
              " ('remembered', 5): 2,\n",
              " ('used', 5): 71,\n",
              " ('👍🙂', 5): 3,\n",
              " ('bugs', 1): 54,\n",
              " ('especially', 1): 13,\n",
              " ('reconnecting', 1): 7,\n",
              " ('theres', 1): 4,\n",
              " ('option', 1): 23,\n",
              " ('login', 1): 85,\n",
              " ('google', 1): 82,\n",
              " ('idiot', 1): 8,\n",
              " ('traning', 5): 3,\n",
              " ('ground', 5): 10,\n",
              " ('free', 5): 169,\n",
              " ('item', 5): 6,\n",
              " ('osm', 3): 4,\n",
              " ('great', 1): 80,\n",
              " ('port', 1): 20,\n",
              " ('ping', 1): 27,\n",
              " ('philippines', 1): 6,\n",
              " ('suck', 1): 31,\n",
              " ('continues', 1): 3,\n",
              " ('another', 1): 54,\n",
              " ('arena', 1): 9,\n",
              " ('valor', 1): 3,\n",
              " ('edit', 1): 35,\n",
              " ('3yrs', 1): 3,\n",
              " ('ago', 1): 38,\n",
              " ('reviewed', 1): 3,\n",
              " ('still', 1): 145,\n",
              " ('wr', 1): 3,\n",
              " ('becoming', 1): 7,\n",
              " ('aov', 1): 3,\n",
              " ('dead', 1): 19,\n",
              " ('making', 1): 37,\n",
              " ('🤔', 1): 3,\n",
              " ('ok', 5): 84,\n",
              " ('enjoyable', 5): 63,\n",
              " ('goog', 5): 3,\n",
              " ('hello', 5): 17,\n",
              " ('rockstar', 5): 13,\n",
              " ('problem', 5): 121,\n",
              " ('gta', 5): 24,\n",
              " ('san', 5): 13,\n",
              " ('andrea', 5): 3,\n",
              " ('sign', 5): 4,\n",
              " ('says', 5): 19,\n",
              " ('error', 5): 24,\n",
              " ('social', 5): 3,\n",
              " ('club', 5): 6,\n",
              " ('information', 5): 6,\n",
              " ('fix', 5): 135,\n",
              " ('bug', 5): 27,\n",
              " ('stuttering', 1): 8,\n",
              " ('fps', 1): 28,\n",
              " ('feels', 1): 5,\n",
              " ('emulator', 1): 10,\n",
              " ('try', 1): 92,\n",
              " ('android', 1): 15,\n",
              " ('bad', 1): 269,\n",
              " ('attempt', 1): 9,\n",
              " ('letting', 1): 9,\n",
              " ('great', 3): 89,\n",
              " ('...', 3): 93,\n",
              " ('except', 3): 10,\n",
              " ('dang', 3): 3,\n",
              " ('people', 3): 16,\n",
              " ('archers', 3): 3,\n",
              " ('monster', 3): 6,\n",
              " ('arena', 3): 10,\n",
              " ('definitely', 3): 16,\n",
              " ('changes', 3): 9,\n",
              " ('``', 3): 43,\n",
              " ('play', 3): 197,\n",
              " (\"''\", 3): 39,\n",
              " ('makes', 3): 23,\n",
              " ('waste', 3): 8,\n",
              " ('time', 3): 132,\n",
              " ('resources', 3): 3,\n",
              " ('really', 1): 129,\n",
              " ('fun', 1): 125,\n",
              " ('addicting', 1): 5,\n",
              " ('however', 1): 11,\n",
              " ('intentionally', 1): 6,\n",
              " ('unbalanced', 1): 26,\n",
              " ('characters', 1): 12,\n",
              " ('day', 5): 80,\n",
              " ('ads', 1): 245,\n",
              " ('lots', 4): 28,\n",
              " (\"n't\", 4): 294,\n",
              " ('boring👌', 4): 4,\n",
              " ('thing', 4): 57,\n",
              " ('getting', 4): 23,\n",
              " ('new', 4): 82,\n",
              " ('brawlers', 4): 8,\n",
              " ('slow', 4): 10,\n",
              " ('took', 4): 16,\n",
              " ('crates', 4): 4,\n",
              " ('love', 3): 114,\n",
              " ('glitch', 3): 13,\n",
              " ('controls', 3): 25,\n",
              " ('desync', 3): 4,\n",
              " ('actually', 3): 15,\n",
              " ('pressing', 3): 13,\n",
              " ('persists', 3): 4,\n",
              " ('even', 3): 95,\n",
              " ('close', 3): 15,\n",
              " ('reopen', 3): 4,\n",
              " ('tap', 3): 12,\n",
              " ('detection', 3): 4,\n",
              " ('center', 3): 4,\n",
              " ('buttons', 3): 13,\n",
              " ('case', 3): 4,\n",
              " ('left', 3): 19,\n",
              " ('button', 3): 30,\n",
              " (\"'s\", 3): 366,\n",
              " (\"'ve\", 3): 70,\n",
              " ('found', 3): 10,\n",
              " ('far', 3): 25,\n",
              " ('though', 3): 38,\n",
              " ('hope', 3): 17,\n",
              " ('guys', 3): 13,\n",
              " ('fix', 3): 115,\n",
              " ('really', 3): 95,\n",
              " ('sucks', 3): 16,\n",
              " ('unless', 3): 19,\n",
              " ('hook', 3): 4,\n",
              " ('switch', 3): 14,\n",
              " ('pro', 3): 19,\n",
              " ('controller', 3): 21,\n",
              " ('bluetooth', 3): 7,\n",
              " ('keyboard', 3): 7,\n",
              " ('thankyou', 3): 4,\n",
              " ('soccer', 5): 4,\n",
              " ('fifa', 5): 18,\n",
              " ('app', 5): 193,\n",
              " ('enjoy', 5): 124,\n",
              " ('something', 3): 38,\n",
              " ('wrong', 3): 9,\n",
              " ('update', 3): 123,\n",
              " ('..', 3): 69,\n",
              " ('want', 3): 63,\n",
              " ('continue', 3): 7,\n",
              " ('save', 3): 19,\n",
              " ('facebook', 3): 3,\n",
              " ('sadly', 3): 7,\n",
              " ('say', 3): 27,\n",
              " ('need', 3): 77,\n",
              " ('first', 3): 39,\n",
              " ('problem', 3): 101,\n",
              " ('go', 3): 43,\n",
              " ('playstore', 3): 7,\n",
              " ('ca', 3): 121,\n",
              " (\"n't\", 3): 322,\n",
              " ('😭', 3): 3,\n",
              " ('server', 4): 28,\n",
              " ('connection', 4): 21,\n",
              " ('finally', 5): 21,\n",
              " ('reached', 5): 10,\n",
              " ('legend', 5): 17,\n",
              " ('today', 5): 25,\n",
              " ('sign', 1): 80,\n",
              " ('without', 1): 75,\n",
              " ('saying', 1): 47,\n",
              " ('number', 1): 51,\n",
              " ('valid', 1): 3,\n",
              " ('😠', 1): 3,\n",
              " ('ranking', 1): 10,\n",
              " ('chat', 1): 11,\n",
              " ('communication', 1): 1,\n",
              " ('person', 1): 23,\n",
              " ('leave', 1): 14,\n",
              " ('stuck', 1): 55,\n",
              " ('ruins', 1): 7,\n",
              " ('everyone', 1): 37,\n",
              " ('replace', 1): 2,\n",
              " ('bit', 1): 6,\n",
              " ('something', 1): 86,\n",
              " ('maybe', 1): 11,\n",
              " ('30sec', 1): 2,\n",
              " ('timer', 1): 9,\n",
              " ('trade', 1): 8,\n",
              " ('house', 1): 9,\n",
              " ('mortgage', 1): 2,\n",
              " ('press', 1): 13,\n",
              " ('bug', 1): 64,\n",
              " ('used', 1): 120,\n",
              " ('locked', 1): 8,\n",
              " ('endless', 1): 10,\n",
              " ('ruin', 1): 20,\n",
              " ('thi', 5): 4,\n",
              " ('complete', 5): 18,\n",
              " ('500', 5): 11,\n",
              " ('lavel', 5): 4,\n",
              " ('still', 4): 103,\n",
              " ('since', 4): 31,\n",
              " ('computer', 4): 10,\n",
              " ('bfg', 4): 4,\n",
              " ('years', 4): 40,\n",
              " ('ago', 4): 5,\n",
              " ('nice', 4): 163,\n",
              " ('match', 4): 31,\n",
              " ('3', 4): 23,\n",
              " ('games', 4): 101,\n",
              " ('timed', 4): 4,\n",
              " ('mixed', 4): 4,\n",
              " ('almost', 4): 29,\n",
              " ('gim', 4): 4,\n",
              " ('removing', 4): 4,\n",
              " ('pins', 4): 4,\n",
              " ('pipes', 4): 4,\n",
              " ('either', 4): 13,\n",
              " ('ads', 4): 86,\n",
              " (\"'ve\", 4): 42,\n",
              " ('missed', 4): 4,\n",
              " ('enjoyed', 4): 10,\n",
              " ('much', 4): 100,\n",
              " ('however', 4): 23,\n",
              " ('written', 4): 4,\n",
              " ('way', 4): 64,\n",
              " ('forces', 4): 4,\n",
              " ('pay', 4): 41,\n",
              " ('money', 4): 36,\n",
              " ('complete', 4): 14,\n",
              " ('suggestion', 4): 6,\n",
              " ('developers', 4): 7,\n",
              " ('settings', 4): 6,\n",
              " ('tab', 4): 4,\n",
              " ('add', 4): 102,\n",
              " ('help', 4): 13,\n",
              " ('section', 4): 11,\n",
              " ('combination', 4): 4,\n",
              " ('tokens', 4): 11,\n",
              " ('abilities', 4): 4,\n",
              " ('perfect👍', 5): 2,\n",
              " ('know', 1): 75,\n",
              " ('keeps', 1): 74,\n",
              " ('freezing', 1): 10,\n",
              " ('kicking', 1): 15,\n",
              " ('roblox', 1): 21,\n",
              " ('pls', 1): 44,\n",
              " ('help', 1): 46,\n",
              " ('😭😭😭💔', 1): 4,\n",
              " ('rules', 5): 8,\n",
              " ('little', 5): 49,\n",
              " ('different', 5): 46,\n",
              " ('thz', 5): 3,\n",
              " ('quality', 5): 64,\n",
              " ('stuffed', 5): 4,\n",
              " ('rèextxdccptfq-×○□and', 5): 4,\n",
              " ('《9♤the', 5): 4,\n",
              " ('t3xrxtxxrýŕ', 5): 4,\n",
              " ('open', 1): 66,\n",
              " ('send', 1): 19,\n",
              " ('mobile', 1): 120,\n",
              " ('disapointed', 1): 3,\n",
              " ('2019', 5): 20,\n",
              " ('ngl', 5): 2,\n",
              " ('apart', 5): 5,\n",
              " ('90/90', 5): 2,\n",
              " ('4', 1): 25,\n",
              " ('star', 1): 95,\n",
              " ('past', 1): 60,\n",
              " ('crashes', 1): 39,\n",
              " ('im', 1): 41,\n",
              " ('gon', 1): 18,\n",
              " ('na', 1): 32,\n",
              " ('retry', 1): 7,\n",
              " ('later', 1): 17,\n",
              " ('rn', 1): 4,\n",
              " ('annoying', 1): 41,\n",
              " ('geam', 5): 2,\n",
              " ('thanku', 5): 2,\n",
              " ('mui', 5): 6,\n",
              " ('plz', 5): 72,\n",
              " ('playing', 3): 74,\n",
              " ('almost', 3): 15,\n",
              " ('5', 3): 77,\n",
              " ('years', 3): 27,\n",
              " ('thing', 3): 45,\n",
              " ('hate', 3): 17,\n",
              " ('requires', 3): 12,\n",
              " ('extremely', 3): 3,\n",
              " ('stable', 3): 9,\n",
              " ('speedy', 3): 3,\n",
              " ('internet', 3): 55,\n",
              " ('able', 3): 25,\n",
              " ('run', 3): 18,\n",
              " ('1080p', 3): 3,\n",
              " ('videos', 3): 8,\n",
              " ('youtube', 3): 5,\n",
              " ('shows', 3): 6,\n",
              " ('issues', 3): 29,\n",
              " ('everytime', 3): 20,\n",
              " ('please', 3): 149,\n",
              " ('supercell', 3): 11,\n",
              " ('favourite', 5): 60,\n",
              " ('spend', 5): 16,\n",
              " ('n', 5): 22,\n",
              " ('evry', 5): 2,\n",
              " ('boring', 5): 46,\n",
              " ('stage', 5): 22,\n",
              " ('lots', 5): 48,\n",
              " ('beginning', 5): 6,\n",
              " ('yep', 5): 3,\n",
              " ('👍👍', 5): 19,\n",
              " ('cheap', 5): 4,\n",
              " ('family', 5): 51,\n",
              " ('entertainment', 5): 6,\n",
              " ('requires', 1): 4,\n",
              " ('skill', 1): 2,\n",
              " ('controla', 1): 2,\n",
              " ('master', 1): 2,\n",
              " ('difficulty', 1): 12,\n",
              " ('settings', 1): 16,\n",
              " ('average', 1): 6,\n",
              " ('humans', 1): 2,\n",
              " ('effects', 1): 8,\n",
              " ('young', 1): 2,\n",
              " ('children', 1): 11,\n",
              " ('caught', 5): 4,\n",
              " ('eye', 5): 4,\n",
              " ('downloading', 5): 22,\n",
              " ('getting', 5): 83,\n",
              " ('updates', 5): 66,\n",
              " ('came', 5): 35,\n",
              " ('download', 5): 125,\n",
              " ('deleted', 5): 16,\n",
              " ('space', 5): 25,\n",
              " ('see', 5): 82,\n",
              " ('progressing', 5): 4,\n",
              " ('makes', 5): 54,\n",
              " ('happy', 5): 59,\n",
              " ('decided', 5): 4,\n",
              " ('another', 5): 31,\n",
              " ('personally', 5): 6,\n",
              " ('expect', 5): 12,\n",
              " ('maby', 5): 4,\n",
              " ('items', 5): 22,\n",
              " ('things', 5): 52,\n",
              " ('ye', 5): 24,\n",
              " ('thos', 5): 4,\n",
              " ('veey', 5): 4,\n",
              " ...}"
            ]
          },
          "metadata": {},
          "execution_count": 141
        }
      ]
    },
    {
      "cell_type": "markdown",
      "source": [
        "## Creating a dataframe for logistic regression model"
      ],
      "metadata": {
        "id": "VFPWNHwx63yn"
      }
    },
    {
      "cell_type": "code",
      "source": [
        "df = pd.DataFrame(columns = ['bias', 'one', 'two', 'three', 'four', 'five', 'rating'])"
      ],
      "metadata": {
        "id": "mB7Vx2T367UK"
      },
      "execution_count": null,
      "outputs": []
    },
    {
      "cell_type": "code",
      "source": [
        "train.iloc[0].Rating"
      ],
      "metadata": {
        "colab": {
          "base_uri": "https://localhost:8080/"
        },
        "id": "UaMmI6m3HSeX",
        "outputId": "3a549fe1-18ba-4bf0-e4c4-028185716f42"
      },
      "execution_count": null,
      "outputs": [
        {
          "output_type": "execute_result",
          "data": {
            "text/plain": [
              "5"
            ]
          },
          "metadata": {},
          "execution_count": 143
        }
      ]
    },
    {
      "cell_type": "code",
      "source": [
        "for i,review in enumerate(train.Review):\n",
        "  lst = [3.85]\n",
        "  one = 0\n",
        "  two = 0\n",
        "  three = 0\n",
        "  four = 0\n",
        "  five = 0\n",
        "  for word in process_review(review):\n",
        "    one = one + freqs.get((word, 1), 0)\n",
        "    two = two + freqs.get((word, 2), 0)\n",
        "    three = three + freqs.get((word, 3), 0)\n",
        "    four = four + freqs.get((word, 4), 0)\n",
        "    five = five + freqs.get((word, 5), 0)\n",
        "  lst.append(one)\n",
        "  lst.append(two)\n",
        "  lst.append(three)\n",
        "  lst.append(four)\n",
        "  lst.append(five)\n",
        "  lst.append(train.iloc[i].Rating)\n",
        "  df.loc[len(df.index)] = lst"
      ],
      "metadata": {
        "id": "UeApDOEJ7DwQ"
      },
      "execution_count": null,
      "outputs": []
    },
    {
      "cell_type": "code",
      "source": [
        "df.shape"
      ],
      "metadata": {
        "colab": {
          "base_uri": "https://localhost:8080/"
        },
        "id": "LTJZQNUp83jP",
        "outputId": "9ffbd6dd-7fcd-449d-babc-e435a3a8b20b"
      },
      "execution_count": null,
      "outputs": [
        {
          "output_type": "execute_result",
          "data": {
            "text/plain": [
              "(21000, 7)"
            ]
          },
          "metadata": {},
          "execution_count": 145
        }
      ]
    },
    {
      "cell_type": "code",
      "source": [
        "df.head(10)"
      ],
      "metadata": {
        "colab": {
          "base_uri": "https://localhost:8080/",
          "height": 363
        },
        "id": "-TFCOpFGCQsB",
        "outputId": "21b9992a-f01d-4ac3-c275-a31f786f2ff6"
      },
      "execution_count": null,
      "outputs": [
        {
          "output_type": "execute_result",
          "data": {
            "text/plain": [
              "   bias     one     two   three    four     five  rating\n",
              "0  3.85  9691.0  2483.0  3733.0  4771.0  18757.0     5.0\n",
              "1  3.85  2670.0   704.0  1144.0  1711.0   8086.0     1.0\n",
              "2  3.85  2613.0   670.0  1087.0  1548.0   7087.0     5.0\n",
              "3  3.85  8140.0  1994.0  3012.0  3975.0  16791.0     1.0\n",
              "4  3.85    80.0    27.0    89.0   226.0    782.0     5.0\n",
              "5  3.85   883.0   381.0   755.0  1175.0   3655.0     4.0\n",
              "6  3.85    40.0    12.0    38.0    41.0    399.0     5.0\n",
              "7  3.85    92.0    51.0   114.0   195.0   1641.0     5.0\n",
              "8  3.85  2633.0   670.0  1093.0  1548.0   7194.0     5.0\n",
              "9  3.85   980.0   167.0   183.0   300.0   1146.0     1.0"
            ],
            "text/html": [
              "\n",
              "  <div id=\"df-d9f87ee0-a64b-45d3-a8f3-30640b65e85e\">\n",
              "    <div class=\"colab-df-container\">\n",
              "      <div>\n",
              "<style scoped>\n",
              "    .dataframe tbody tr th:only-of-type {\n",
              "        vertical-align: middle;\n",
              "    }\n",
              "\n",
              "    .dataframe tbody tr th {\n",
              "        vertical-align: top;\n",
              "    }\n",
              "\n",
              "    .dataframe thead th {\n",
              "        text-align: right;\n",
              "    }\n",
              "</style>\n",
              "<table border=\"1\" class=\"dataframe\">\n",
              "  <thead>\n",
              "    <tr style=\"text-align: right;\">\n",
              "      <th></th>\n",
              "      <th>bias</th>\n",
              "      <th>one</th>\n",
              "      <th>two</th>\n",
              "      <th>three</th>\n",
              "      <th>four</th>\n",
              "      <th>five</th>\n",
              "      <th>rating</th>\n",
              "    </tr>\n",
              "  </thead>\n",
              "  <tbody>\n",
              "    <tr>\n",
              "      <th>0</th>\n",
              "      <td>3.85</td>\n",
              "      <td>9691.0</td>\n",
              "      <td>2483.0</td>\n",
              "      <td>3733.0</td>\n",
              "      <td>4771.0</td>\n",
              "      <td>18757.0</td>\n",
              "      <td>5.0</td>\n",
              "    </tr>\n",
              "    <tr>\n",
              "      <th>1</th>\n",
              "      <td>3.85</td>\n",
              "      <td>2670.0</td>\n",
              "      <td>704.0</td>\n",
              "      <td>1144.0</td>\n",
              "      <td>1711.0</td>\n",
              "      <td>8086.0</td>\n",
              "      <td>1.0</td>\n",
              "    </tr>\n",
              "    <tr>\n",
              "      <th>2</th>\n",
              "      <td>3.85</td>\n",
              "      <td>2613.0</td>\n",
              "      <td>670.0</td>\n",
              "      <td>1087.0</td>\n",
              "      <td>1548.0</td>\n",
              "      <td>7087.0</td>\n",
              "      <td>5.0</td>\n",
              "    </tr>\n",
              "    <tr>\n",
              "      <th>3</th>\n",
              "      <td>3.85</td>\n",
              "      <td>8140.0</td>\n",
              "      <td>1994.0</td>\n",
              "      <td>3012.0</td>\n",
              "      <td>3975.0</td>\n",
              "      <td>16791.0</td>\n",
              "      <td>1.0</td>\n",
              "    </tr>\n",
              "    <tr>\n",
              "      <th>4</th>\n",
              "      <td>3.85</td>\n",
              "      <td>80.0</td>\n",
              "      <td>27.0</td>\n",
              "      <td>89.0</td>\n",
              "      <td>226.0</td>\n",
              "      <td>782.0</td>\n",
              "      <td>5.0</td>\n",
              "    </tr>\n",
              "    <tr>\n",
              "      <th>5</th>\n",
              "      <td>3.85</td>\n",
              "      <td>883.0</td>\n",
              "      <td>381.0</td>\n",
              "      <td>755.0</td>\n",
              "      <td>1175.0</td>\n",
              "      <td>3655.0</td>\n",
              "      <td>4.0</td>\n",
              "    </tr>\n",
              "    <tr>\n",
              "      <th>6</th>\n",
              "      <td>3.85</td>\n",
              "      <td>40.0</td>\n",
              "      <td>12.0</td>\n",
              "      <td>38.0</td>\n",
              "      <td>41.0</td>\n",
              "      <td>399.0</td>\n",
              "      <td>5.0</td>\n",
              "    </tr>\n",
              "    <tr>\n",
              "      <th>7</th>\n",
              "      <td>3.85</td>\n",
              "      <td>92.0</td>\n",
              "      <td>51.0</td>\n",
              "      <td>114.0</td>\n",
              "      <td>195.0</td>\n",
              "      <td>1641.0</td>\n",
              "      <td>5.0</td>\n",
              "    </tr>\n",
              "    <tr>\n",
              "      <th>8</th>\n",
              "      <td>3.85</td>\n",
              "      <td>2633.0</td>\n",
              "      <td>670.0</td>\n",
              "      <td>1093.0</td>\n",
              "      <td>1548.0</td>\n",
              "      <td>7194.0</td>\n",
              "      <td>5.0</td>\n",
              "    </tr>\n",
              "    <tr>\n",
              "      <th>9</th>\n",
              "      <td>3.85</td>\n",
              "      <td>980.0</td>\n",
              "      <td>167.0</td>\n",
              "      <td>183.0</td>\n",
              "      <td>300.0</td>\n",
              "      <td>1146.0</td>\n",
              "      <td>1.0</td>\n",
              "    </tr>\n",
              "  </tbody>\n",
              "</table>\n",
              "</div>\n",
              "      <button class=\"colab-df-convert\" onclick=\"convertToInteractive('df-d9f87ee0-a64b-45d3-a8f3-30640b65e85e')\"\n",
              "              title=\"Convert this dataframe to an interactive table.\"\n",
              "              style=\"display:none;\">\n",
              "        \n",
              "  <svg xmlns=\"http://www.w3.org/2000/svg\" height=\"24px\"viewBox=\"0 0 24 24\"\n",
              "       width=\"24px\">\n",
              "    <path d=\"M0 0h24v24H0V0z\" fill=\"none\"/>\n",
              "    <path d=\"M18.56 5.44l.94 2.06.94-2.06 2.06-.94-2.06-.94-.94-2.06-.94 2.06-2.06.94zm-11 1L8.5 8.5l.94-2.06 2.06-.94-2.06-.94L8.5 2.5l-.94 2.06-2.06.94zm10 10l.94 2.06.94-2.06 2.06-.94-2.06-.94-.94-2.06-.94 2.06-2.06.94z\"/><path d=\"M17.41 7.96l-1.37-1.37c-.4-.4-.92-.59-1.43-.59-.52 0-1.04.2-1.43.59L10.3 9.45l-7.72 7.72c-.78.78-.78 2.05 0 2.83L4 21.41c.39.39.9.59 1.41.59.51 0 1.02-.2 1.41-.59l7.78-7.78 2.81-2.81c.8-.78.8-2.07 0-2.86zM5.41 20L4 18.59l7.72-7.72 1.47 1.35L5.41 20z\"/>\n",
              "  </svg>\n",
              "      </button>\n",
              "      \n",
              "  <style>\n",
              "    .colab-df-container {\n",
              "      display:flex;\n",
              "      flex-wrap:wrap;\n",
              "      gap: 12px;\n",
              "    }\n",
              "\n",
              "    .colab-df-convert {\n",
              "      background-color: #E8F0FE;\n",
              "      border: none;\n",
              "      border-radius: 50%;\n",
              "      cursor: pointer;\n",
              "      display: none;\n",
              "      fill: #1967D2;\n",
              "      height: 32px;\n",
              "      padding: 0 0 0 0;\n",
              "      width: 32px;\n",
              "    }\n",
              "\n",
              "    .colab-df-convert:hover {\n",
              "      background-color: #E2EBFA;\n",
              "      box-shadow: 0px 1px 2px rgba(60, 64, 67, 0.3), 0px 1px 3px 1px rgba(60, 64, 67, 0.15);\n",
              "      fill: #174EA6;\n",
              "    }\n",
              "\n",
              "    [theme=dark] .colab-df-convert {\n",
              "      background-color: #3B4455;\n",
              "      fill: #D2E3FC;\n",
              "    }\n",
              "\n",
              "    [theme=dark] .colab-df-convert:hover {\n",
              "      background-color: #434B5C;\n",
              "      box-shadow: 0px 1px 3px 1px rgba(0, 0, 0, 0.15);\n",
              "      filter: drop-shadow(0px 1px 2px rgba(0, 0, 0, 0.3));\n",
              "      fill: #FFFFFF;\n",
              "    }\n",
              "  </style>\n",
              "\n",
              "      <script>\n",
              "        const buttonEl =\n",
              "          document.querySelector('#df-d9f87ee0-a64b-45d3-a8f3-30640b65e85e button.colab-df-convert');\n",
              "        buttonEl.style.display =\n",
              "          google.colab.kernel.accessAllowed ? 'block' : 'none';\n",
              "\n",
              "        async function convertToInteractive(key) {\n",
              "          const element = document.querySelector('#df-d9f87ee0-a64b-45d3-a8f3-30640b65e85e');\n",
              "          const dataTable =\n",
              "            await google.colab.kernel.invokeFunction('convertToInteractive',\n",
              "                                                     [key], {});\n",
              "          if (!dataTable) return;\n",
              "\n",
              "          const docLinkHtml = 'Like what you see? Visit the ' +\n",
              "            '<a target=\"_blank\" href=https://colab.research.google.com/notebooks/data_table.ipynb>data table notebook</a>'\n",
              "            + ' to learn more about interactive tables.';\n",
              "          element.innerHTML = '';\n",
              "          dataTable['output_type'] = 'display_data';\n",
              "          await google.colab.output.renderOutput(dataTable, element);\n",
              "          const docLink = document.createElement('div');\n",
              "          docLink.innerHTML = docLinkHtml;\n",
              "          element.appendChild(docLink);\n",
              "        }\n",
              "      </script>\n",
              "    </div>\n",
              "  </div>\n",
              "  "
            ]
          },
          "metadata": {},
          "execution_count": 146
        }
      ]
    },
    {
      "cell_type": "code",
      "source": [
        "df.rating.value_counts()"
      ],
      "metadata": {
        "colab": {
          "base_uri": "https://localhost:8080/"
        },
        "id": "y8qFYP7YEtjX",
        "outputId": "701c3491-53ab-4c6f-a040-2e48f7a0c127"
      },
      "execution_count": null,
      "outputs": [
        {
          "output_type": "execute_result",
          "data": {
            "text/plain": [
              "5.0    12376\n",
              "1.0     4120\n",
              "4.0     2233\n",
              "3.0     1369\n",
              "2.0      902\n",
              "Name: rating, dtype: int64"
            ]
          },
          "metadata": {},
          "execution_count": 147
        }
      ]
    },
    {
      "cell_type": "markdown",
      "source": [
        "## Balancing the imbalanced data"
      ],
      "metadata": {
        "id": "_rPhQs0Fpd9W"
      }
    },
    {
      "cell_type": "code",
      "source": [
        "X = df[['bias', 'one', 'two', 'three','four', 'five']].values\n",
        "Y = df['rating'].values"
      ],
      "metadata": {
        "id": "5znEXNnjpf2R"
      },
      "execution_count": null,
      "outputs": []
    },
    {
      "cell_type": "code",
      "source": [
        "from imblearn.over_sampling import SMOTE\n",
        "\n",
        "smote = SMOTE()\n",
        "\n",
        "# fit predictor and target variable\n",
        "x_smote, y_smote = smote.fit_resample(X, Y)"
      ],
      "metadata": {
        "id": "Ie0v2XikCu8c"
      },
      "execution_count": null,
      "outputs": []
    },
    {
      "cell_type": "code",
      "source": [
        "from sklearn.model_selection import train_test_split\n",
        "x_train, x_test, y_train, y_test = train_test_split(x_smote,y_smote, test_size = 0.15, random_state = 0)"
      ],
      "metadata": {
        "id": "2G3Zt92tC3CL"
      },
      "execution_count": null,
      "outputs": []
    },
    {
      "cell_type": "markdown",
      "source": [
        "## Standard scaling data"
      ],
      "metadata": {
        "id": "HnOGnVVLopOG"
      }
    },
    {
      "cell_type": "code",
      "source": [
        "# from sklearn.preprocessing import StandardScaler\n",
        "# scaler = StandardScaler()\n",
        "\n",
        "# scaler.fit(x_smote)\n",
        "# x_smote = scaler.transform(x_smote)"
      ],
      "metadata": {
        "id": "02nsUYy2orSC"
      },
      "execution_count": null,
      "outputs": []
    },
    {
      "cell_type": "code",
      "source": [
        "# x_test = scaler.transform(x_test)"
      ],
      "metadata": {
        "id": "ZmHSMUb6o7hA"
      },
      "execution_count": null,
      "outputs": []
    },
    {
      "cell_type": "markdown",
      "source": [
        "## Training our Random Forest model"
      ],
      "metadata": {
        "id": "DELw6jXVRV59"
      }
    },
    {
      "cell_type": "code",
      "source": [
        "from sklearn.ensemble import RandomForestClassifier"
      ],
      "metadata": {
        "id": "bMHgNBaWRYd9"
      },
      "execution_count": null,
      "outputs": []
    },
    {
      "cell_type": "code",
      "source": [
        "rf = RandomForestClassifier(n_estimators = 1000, random_state = 201)\n",
        "rf.fit(x_smote, y_smote)"
      ],
      "metadata": {
        "colab": {
          "base_uri": "https://localhost:8080/",
          "height": 74
        },
        "id": "BElOJQhLRej-",
        "outputId": "811e65d7-db9a-4b74-a14a-8bdd3701e173"
      },
      "execution_count": null,
      "outputs": [
        {
          "output_type": "execute_result",
          "data": {
            "text/plain": [
              "RandomForestClassifier(n_estimators=1000, random_state=201)"
            ],
            "text/html": [
              "<style>#sk-container-id-3 {color: black;background-color: white;}#sk-container-id-3 pre{padding: 0;}#sk-container-id-3 div.sk-toggleable {background-color: white;}#sk-container-id-3 label.sk-toggleable__label {cursor: pointer;display: block;width: 100%;margin-bottom: 0;padding: 0.3em;box-sizing: border-box;text-align: center;}#sk-container-id-3 label.sk-toggleable__label-arrow:before {content: \"▸\";float: left;margin-right: 0.25em;color: #696969;}#sk-container-id-3 label.sk-toggleable__label-arrow:hover:before {color: black;}#sk-container-id-3 div.sk-estimator:hover label.sk-toggleable__label-arrow:before {color: black;}#sk-container-id-3 div.sk-toggleable__content {max-height: 0;max-width: 0;overflow: hidden;text-align: left;background-color: #f0f8ff;}#sk-container-id-3 div.sk-toggleable__content pre {margin: 0.2em;color: black;border-radius: 0.25em;background-color: #f0f8ff;}#sk-container-id-3 input.sk-toggleable__control:checked~div.sk-toggleable__content {max-height: 200px;max-width: 100%;overflow: auto;}#sk-container-id-3 input.sk-toggleable__control:checked~label.sk-toggleable__label-arrow:before {content: \"▾\";}#sk-container-id-3 div.sk-estimator input.sk-toggleable__control:checked~label.sk-toggleable__label {background-color: #d4ebff;}#sk-container-id-3 div.sk-label input.sk-toggleable__control:checked~label.sk-toggleable__label {background-color: #d4ebff;}#sk-container-id-3 input.sk-hidden--visually {border: 0;clip: rect(1px 1px 1px 1px);clip: rect(1px, 1px, 1px, 1px);height: 1px;margin: -1px;overflow: hidden;padding: 0;position: absolute;width: 1px;}#sk-container-id-3 div.sk-estimator {font-family: monospace;background-color: #f0f8ff;border: 1px dotted black;border-radius: 0.25em;box-sizing: border-box;margin-bottom: 0.5em;}#sk-container-id-3 div.sk-estimator:hover {background-color: #d4ebff;}#sk-container-id-3 div.sk-parallel-item::after {content: \"\";width: 100%;border-bottom: 1px solid gray;flex-grow: 1;}#sk-container-id-3 div.sk-label:hover label.sk-toggleable__label {background-color: #d4ebff;}#sk-container-id-3 div.sk-serial::before {content: \"\";position: absolute;border-left: 1px solid gray;box-sizing: border-box;top: 0;bottom: 0;left: 50%;z-index: 0;}#sk-container-id-3 div.sk-serial {display: flex;flex-direction: column;align-items: center;background-color: white;padding-right: 0.2em;padding-left: 0.2em;position: relative;}#sk-container-id-3 div.sk-item {position: relative;z-index: 1;}#sk-container-id-3 div.sk-parallel {display: flex;align-items: stretch;justify-content: center;background-color: white;position: relative;}#sk-container-id-3 div.sk-item::before, #sk-container-id-3 div.sk-parallel-item::before {content: \"\";position: absolute;border-left: 1px solid gray;box-sizing: border-box;top: 0;bottom: 0;left: 50%;z-index: -1;}#sk-container-id-3 div.sk-parallel-item {display: flex;flex-direction: column;z-index: 1;position: relative;background-color: white;}#sk-container-id-3 div.sk-parallel-item:first-child::after {align-self: flex-end;width: 50%;}#sk-container-id-3 div.sk-parallel-item:last-child::after {align-self: flex-start;width: 50%;}#sk-container-id-3 div.sk-parallel-item:only-child::after {width: 0;}#sk-container-id-3 div.sk-dashed-wrapped {border: 1px dashed gray;margin: 0 0.4em 0.5em 0.4em;box-sizing: border-box;padding-bottom: 0.4em;background-color: white;}#sk-container-id-3 div.sk-label label {font-family: monospace;font-weight: bold;display: inline-block;line-height: 1.2em;}#sk-container-id-3 div.sk-label-container {text-align: center;}#sk-container-id-3 div.sk-container {/* jupyter's `normalize.less` sets `[hidden] { display: none; }` but bootstrap.min.css set `[hidden] { display: none !important; }` so we also need the `!important` here to be able to override the default hidden behavior on the sphinx rendered scikit-learn.org. See: https://github.com/scikit-learn/scikit-learn/issues/21755 */display: inline-block !important;position: relative;}#sk-container-id-3 div.sk-text-repr-fallback {display: none;}</style><div id=\"sk-container-id-3\" class=\"sk-top-container\"><div class=\"sk-text-repr-fallback\"><pre>RandomForestClassifier(n_estimators=1000, random_state=201)</pre><b>In a Jupyter environment, please rerun this cell to show the HTML representation or trust the notebook. <br />On GitHub, the HTML representation is unable to render, please try loading this page with nbviewer.org.</b></div><div class=\"sk-container\" hidden><div class=\"sk-item\"><div class=\"sk-estimator sk-toggleable\"><input class=\"sk-toggleable__control sk-hidden--visually\" id=\"sk-estimator-id-3\" type=\"checkbox\" checked><label for=\"sk-estimator-id-3\" class=\"sk-toggleable__label sk-toggleable__label-arrow\">RandomForestClassifier</label><div class=\"sk-toggleable__content\"><pre>RandomForestClassifier(n_estimators=1000, random_state=201)</pre></div></div></div></div></div>"
            ]
          },
          "metadata": {},
          "execution_count": 154
        }
      ]
    },
    {
      "cell_type": "code",
      "source": [
        "score = rf.score(x_test, y_test)\n",
        "print(\"Score of model: \")\n",
        "print(score)"
      ],
      "metadata": {
        "colab": {
          "base_uri": "https://localhost:8080/"
        },
        "id": "fuFYyOIhRty7",
        "outputId": "c2537543-25d8-48a2-af1f-6c607c00abc1"
      },
      "execution_count": null,
      "outputs": [
        {
          "output_type": "stream",
          "name": "stdout",
          "text": [
            "Score of model: \n",
            "0.9480715363068304\n"
          ]
        }
      ]
    },
    {
      "cell_type": "markdown",
      "source": [
        "## Trying random hyperparameters for random forest"
      ],
      "metadata": {
        "id": "IDumCvpxI3Wt"
      }
    },
    {
      "cell_type": "code",
      "source": [
        "# from sklearn.model_selection import RandomizedSearchCV\n",
        "# # Number of trees in random forest\n",
        "# n_estimators = [int(x) for x in np.linspace(start = 200, stop = 2000, num = 10)]\n",
        "# # Number of features to consider at every split\n",
        "# max_features = ['auto', 'sqrt']\n",
        "# # Maximum number of levels in tree\n",
        "# max_depth = [int(x) for x in np.linspace(10, 110, num = 11)]\n",
        "# max_depth.append(None)\n",
        "# # Minimum number of samples required to split a node\n",
        "# min_samples_split = [2, 5, 10]\n",
        "# # Minimum number of samples required at each leaf node\n",
        "# min_samples_leaf = [1, 2, 4]\n",
        "# # Method of selecting samples for training each tree\n",
        "# bootstrap = [True, False]\n",
        "# # Create the random grid\n",
        "# random_grid = {'n_estimators': n_estimators,\n",
        "#                'max_features': max_features,\n",
        "#                'max_depth': max_depth}\n",
        "# print(random_grid)"
      ],
      "metadata": {
        "id": "i73vLD35I6y2"
      },
      "execution_count": null,
      "outputs": []
    },
    {
      "cell_type": "markdown",
      "source": [
        "## Training our logistic regression model"
      ],
      "metadata": {
        "id": "eQ9ouW3iCsvb"
      }
    },
    {
      "cell_type": "code",
      "source": [
        "# from sklearn.linear_model import LogisticRegression\n",
        "# from sklearn.metrics import confusion_matrix\n",
        "\n",
        "# # model = LogisticRegression(random_state= 0, solver = 'lbfgs', max_iter = 2000).fit(x_smote, y_smote)\n",
        "# model = LogisticRegression(random_state= 10).fit(x_smote, y_smote)\n",
        "# score = model.score(x_test, y_test)\n",
        "# print(\"Score of model: \")\n",
        "# print(score)"
      ],
      "metadata": {
        "id": "DLV14T7wDBZA"
      },
      "execution_count": null,
      "outputs": []
    },
    {
      "cell_type": "code",
      "source": [
        "# y_actual = pd.Series(y_test, name='Actual')\n",
        "# y_predicted = pd.Series(model.predict(x_test), name='Predicted')\n",
        "# print(\"Confusion matrix: \")\n",
        "# pd.crosstab(y_actual,y_predicted)"
      ],
      "metadata": {
        "id": "ATVeKyQPESPq"
      },
      "execution_count": null,
      "outputs": []
    },
    {
      "cell_type": "code",
      "source": [
        "# temp_df = pd.DataFrame(model.predict(x_test))"
      ],
      "metadata": {
        "id": "vECZDPtJEbtO"
      },
      "execution_count": null,
      "outputs": []
    },
    {
      "cell_type": "code",
      "source": [
        "# temp_df"
      ],
      "metadata": {
        "id": "gXprYQchEoAG"
      },
      "execution_count": null,
      "outputs": []
    },
    {
      "cell_type": "code",
      "source": [
        "# temp_df.value_counts()"
      ],
      "metadata": {
        "id": "aEzcpd0tEo0r"
      },
      "execution_count": null,
      "outputs": []
    },
    {
      "cell_type": "markdown",
      "source": [
        "## Predicting our testing data"
      ],
      "metadata": {
        "id": "QYjEib6-FBK6"
      }
    },
    {
      "cell_type": "code",
      "source": [
        "test = pd.read_csv(\"/content/test (2).csv\")"
      ],
      "metadata": {
        "id": "13t2wgH1FC41"
      },
      "execution_count": null,
      "outputs": []
    },
    {
      "cell_type": "code",
      "source": [
        "test.shape"
      ],
      "metadata": {
        "colab": {
          "base_uri": "https://localhost:8080/"
        },
        "id": "icsCyAMjGODS",
        "outputId": "0cfb1604-fd90-4c71-e4df-5ab10608c28e"
      },
      "execution_count": null,
      "outputs": [
        {
          "output_type": "execute_result",
          "data": {
            "text/plain": [
              "(7000, 1)"
            ]
          },
          "metadata": {},
          "execution_count": 163
        }
      ]
    },
    {
      "cell_type": "code",
      "source": [
        "test.head()"
      ],
      "metadata": {
        "colab": {
          "base_uri": "https://localhost:8080/",
          "height": 206
        },
        "id": "-TWvJXiZGSGS",
        "outputId": "30c9580a-68be-4d49-c97f-7883a219d5ce"
      },
      "execution_count": null,
      "outputs": [
        {
          "output_type": "execute_result",
          "data": {
            "text/plain": [
              "                                              Review\n",
              "0  This used to be my favorite game and it is sti...\n",
              "1  Every single time i put the online multi-playe...\n",
              "2  Determined to make us watch ads! Wouldn't be a...\n",
              "3                           Super great running game\n",
              "4  Hello NetEase, I really loved the game it dese..."
            ],
            "text/html": [
              "\n",
              "  <div id=\"df-4f9ac114-e1a5-4895-95e5-9852ec0b51be\">\n",
              "    <div class=\"colab-df-container\">\n",
              "      <div>\n",
              "<style scoped>\n",
              "    .dataframe tbody tr th:only-of-type {\n",
              "        vertical-align: middle;\n",
              "    }\n",
              "\n",
              "    .dataframe tbody tr th {\n",
              "        vertical-align: top;\n",
              "    }\n",
              "\n",
              "    .dataframe thead th {\n",
              "        text-align: right;\n",
              "    }\n",
              "</style>\n",
              "<table border=\"1\" class=\"dataframe\">\n",
              "  <thead>\n",
              "    <tr style=\"text-align: right;\">\n",
              "      <th></th>\n",
              "      <th>Review</th>\n",
              "    </tr>\n",
              "  </thead>\n",
              "  <tbody>\n",
              "    <tr>\n",
              "      <th>0</th>\n",
              "      <td>This used to be my favorite game and it is sti...</td>\n",
              "    </tr>\n",
              "    <tr>\n",
              "      <th>1</th>\n",
              "      <td>Every single time i put the online multi-playe...</td>\n",
              "    </tr>\n",
              "    <tr>\n",
              "      <th>2</th>\n",
              "      <td>Determined to make us watch ads! Wouldn't be a...</td>\n",
              "    </tr>\n",
              "    <tr>\n",
              "      <th>3</th>\n",
              "      <td>Super great running game</td>\n",
              "    </tr>\n",
              "    <tr>\n",
              "      <th>4</th>\n",
              "      <td>Hello NetEase, I really loved the game it dese...</td>\n",
              "    </tr>\n",
              "  </tbody>\n",
              "</table>\n",
              "</div>\n",
              "      <button class=\"colab-df-convert\" onclick=\"convertToInteractive('df-4f9ac114-e1a5-4895-95e5-9852ec0b51be')\"\n",
              "              title=\"Convert this dataframe to an interactive table.\"\n",
              "              style=\"display:none;\">\n",
              "        \n",
              "  <svg xmlns=\"http://www.w3.org/2000/svg\" height=\"24px\"viewBox=\"0 0 24 24\"\n",
              "       width=\"24px\">\n",
              "    <path d=\"M0 0h24v24H0V0z\" fill=\"none\"/>\n",
              "    <path d=\"M18.56 5.44l.94 2.06.94-2.06 2.06-.94-2.06-.94-.94-2.06-.94 2.06-2.06.94zm-11 1L8.5 8.5l.94-2.06 2.06-.94-2.06-.94L8.5 2.5l-.94 2.06-2.06.94zm10 10l.94 2.06.94-2.06 2.06-.94-2.06-.94-.94-2.06-.94 2.06-2.06.94z\"/><path d=\"M17.41 7.96l-1.37-1.37c-.4-.4-.92-.59-1.43-.59-.52 0-1.04.2-1.43.59L10.3 9.45l-7.72 7.72c-.78.78-.78 2.05 0 2.83L4 21.41c.39.39.9.59 1.41.59.51 0 1.02-.2 1.41-.59l7.78-7.78 2.81-2.81c.8-.78.8-2.07 0-2.86zM5.41 20L4 18.59l7.72-7.72 1.47 1.35L5.41 20z\"/>\n",
              "  </svg>\n",
              "      </button>\n",
              "      \n",
              "  <style>\n",
              "    .colab-df-container {\n",
              "      display:flex;\n",
              "      flex-wrap:wrap;\n",
              "      gap: 12px;\n",
              "    }\n",
              "\n",
              "    .colab-df-convert {\n",
              "      background-color: #E8F0FE;\n",
              "      border: none;\n",
              "      border-radius: 50%;\n",
              "      cursor: pointer;\n",
              "      display: none;\n",
              "      fill: #1967D2;\n",
              "      height: 32px;\n",
              "      padding: 0 0 0 0;\n",
              "      width: 32px;\n",
              "    }\n",
              "\n",
              "    .colab-df-convert:hover {\n",
              "      background-color: #E2EBFA;\n",
              "      box-shadow: 0px 1px 2px rgba(60, 64, 67, 0.3), 0px 1px 3px 1px rgba(60, 64, 67, 0.15);\n",
              "      fill: #174EA6;\n",
              "    }\n",
              "\n",
              "    [theme=dark] .colab-df-convert {\n",
              "      background-color: #3B4455;\n",
              "      fill: #D2E3FC;\n",
              "    }\n",
              "\n",
              "    [theme=dark] .colab-df-convert:hover {\n",
              "      background-color: #434B5C;\n",
              "      box-shadow: 0px 1px 3px 1px rgba(0, 0, 0, 0.15);\n",
              "      filter: drop-shadow(0px 1px 2px rgba(0, 0, 0, 0.3));\n",
              "      fill: #FFFFFF;\n",
              "    }\n",
              "  </style>\n",
              "\n",
              "      <script>\n",
              "        const buttonEl =\n",
              "          document.querySelector('#df-4f9ac114-e1a5-4895-95e5-9852ec0b51be button.colab-df-convert');\n",
              "        buttonEl.style.display =\n",
              "          google.colab.kernel.accessAllowed ? 'block' : 'none';\n",
              "\n",
              "        async function convertToInteractive(key) {\n",
              "          const element = document.querySelector('#df-4f9ac114-e1a5-4895-95e5-9852ec0b51be');\n",
              "          const dataTable =\n",
              "            await google.colab.kernel.invokeFunction('convertToInteractive',\n",
              "                                                     [key], {});\n",
              "          if (!dataTable) return;\n",
              "\n",
              "          const docLinkHtml = 'Like what you see? Visit the ' +\n",
              "            '<a target=\"_blank\" href=https://colab.research.google.com/notebooks/data_table.ipynb>data table notebook</a>'\n",
              "            + ' to learn more about interactive tables.';\n",
              "          element.innerHTML = '';\n",
              "          dataTable['output_type'] = 'display_data';\n",
              "          await google.colab.output.renderOutput(dataTable, element);\n",
              "          const docLink = document.createElement('div');\n",
              "          docLink.innerHTML = docLinkHtml;\n",
              "          element.appendChild(docLink);\n",
              "        }\n",
              "      </script>\n",
              "    </div>\n",
              "  </div>\n",
              "  "
            ]
          },
          "metadata": {},
          "execution_count": 164
        }
      ]
    },
    {
      "cell_type": "code",
      "source": [
        "test.Review"
      ],
      "metadata": {
        "colab": {
          "base_uri": "https://localhost:8080/"
        },
        "id": "XIpnHbalMX24",
        "outputId": "c36fe6b6-dc51-4947-bedb-0bc29a7d4341"
      },
      "execution_count": null,
      "outputs": [
        {
          "output_type": "execute_result",
          "data": {
            "text/plain": [
              "0       This used to be my favorite game and it is sti...\n",
              "1       Every single time i put the online multi-playe...\n",
              "2       Determined to make us watch ads! Wouldn't be a...\n",
              "3                                Super great running game\n",
              "4       Hello NetEase, I really loved the game it dese...\n",
              "                              ...                        \n",
              "6995                   This is like playing real football\n",
              "6996                              Please fix aim accuracy\n",
              "6997    Fix your game ranking and chat, this game suck...\n",
              "6998                                    give coins 500000\n",
              "6999                                            Good game\n",
              "Name: Review, Length: 7000, dtype: object"
            ]
          },
          "metadata": {},
          "execution_count": 165
        }
      ]
    },
    {
      "cell_type": "markdown",
      "source": [
        "## Generating Xm for test data"
      ],
      "metadata": {
        "id": "HRC9MKIiFqCq"
      }
    },
    {
      "cell_type": "code",
      "source": [
        "f_lst = []"
      ],
      "metadata": {
        "id": "VJOf-WDCMo5r"
      },
      "execution_count": null,
      "outputs": []
    },
    {
      "cell_type": "code",
      "source": [
        "for review in test.Review:\n",
        "  lst = [3.85]\n",
        "  one = 0\n",
        "  two = 0\n",
        "  three = 0\n",
        "  four = 0\n",
        "  five = 0\n",
        "  for word in process_review(review):\n",
        "    one = one + freqs.get((word, 1), 0)\n",
        "    two = two + freqs.get((word, 2), 0)\n",
        "    three = three + freqs.get((word, 3), 0)\n",
        "    four = four + freqs.get((word, 4), 0)\n",
        "    five = five + freqs.get((word, 5), 0)\n",
        "  lst.append(one)\n",
        "  lst.append(two)\n",
        "  lst.append(three)\n",
        "  lst.append(four)\n",
        "  lst.append(five)\n",
        "  f_lst.append(lst)"
      ],
      "metadata": {
        "id": "h98yhyIKFHhh"
      },
      "execution_count": null,
      "outputs": []
    },
    {
      "cell_type": "code",
      "source": [
        "test_df = pd.DataFrame(f_lst, columns = ['bias', 'one', 'two', 'three', 'four', 'five'])"
      ],
      "metadata": {
        "id": "3n5Dg9RuMcVV"
      },
      "execution_count": null,
      "outputs": []
    },
    {
      "cell_type": "code",
      "source": [
        "test_df.head()"
      ],
      "metadata": {
        "colab": {
          "base_uri": "https://localhost:8080/",
          "height": 206
        },
        "id": "OcMj5LCjMiLr",
        "outputId": "5a995f67-824f-450d-d41c-419a2b6464bc"
      },
      "execution_count": null,
      "outputs": [
        {
          "output_type": "execute_result",
          "data": {
            "text/plain": [
              "   bias    one   two  three  four   five\n",
              "0  3.85   2893   806   1208  1677   7465\n",
              "1  3.85   2493   597    880   875   1711\n",
              "2  3.85  12769  3609   4947  5936  20061\n",
              "3  3.85   2750   719   1197  1801   8112\n",
              "4  3.85   5979  1647   2707  3761  15644"
            ],
            "text/html": [
              "\n",
              "  <div id=\"df-c5abd705-a37e-4e88-a02b-3fac50253399\">\n",
              "    <div class=\"colab-df-container\">\n",
              "      <div>\n",
              "<style scoped>\n",
              "    .dataframe tbody tr th:only-of-type {\n",
              "        vertical-align: middle;\n",
              "    }\n",
              "\n",
              "    .dataframe tbody tr th {\n",
              "        vertical-align: top;\n",
              "    }\n",
              "\n",
              "    .dataframe thead th {\n",
              "        text-align: right;\n",
              "    }\n",
              "</style>\n",
              "<table border=\"1\" class=\"dataframe\">\n",
              "  <thead>\n",
              "    <tr style=\"text-align: right;\">\n",
              "      <th></th>\n",
              "      <th>bias</th>\n",
              "      <th>one</th>\n",
              "      <th>two</th>\n",
              "      <th>three</th>\n",
              "      <th>four</th>\n",
              "      <th>five</th>\n",
              "    </tr>\n",
              "  </thead>\n",
              "  <tbody>\n",
              "    <tr>\n",
              "      <th>0</th>\n",
              "      <td>3.85</td>\n",
              "      <td>2893</td>\n",
              "      <td>806</td>\n",
              "      <td>1208</td>\n",
              "      <td>1677</td>\n",
              "      <td>7465</td>\n",
              "    </tr>\n",
              "    <tr>\n",
              "      <th>1</th>\n",
              "      <td>3.85</td>\n",
              "      <td>2493</td>\n",
              "      <td>597</td>\n",
              "      <td>880</td>\n",
              "      <td>875</td>\n",
              "      <td>1711</td>\n",
              "    </tr>\n",
              "    <tr>\n",
              "      <th>2</th>\n",
              "      <td>3.85</td>\n",
              "      <td>12769</td>\n",
              "      <td>3609</td>\n",
              "      <td>4947</td>\n",
              "      <td>5936</td>\n",
              "      <td>20061</td>\n",
              "    </tr>\n",
              "    <tr>\n",
              "      <th>3</th>\n",
              "      <td>3.85</td>\n",
              "      <td>2750</td>\n",
              "      <td>719</td>\n",
              "      <td>1197</td>\n",
              "      <td>1801</td>\n",
              "      <td>8112</td>\n",
              "    </tr>\n",
              "    <tr>\n",
              "      <th>4</th>\n",
              "      <td>3.85</td>\n",
              "      <td>5979</td>\n",
              "      <td>1647</td>\n",
              "      <td>2707</td>\n",
              "      <td>3761</td>\n",
              "      <td>15644</td>\n",
              "    </tr>\n",
              "  </tbody>\n",
              "</table>\n",
              "</div>\n",
              "      <button class=\"colab-df-convert\" onclick=\"convertToInteractive('df-c5abd705-a37e-4e88-a02b-3fac50253399')\"\n",
              "              title=\"Convert this dataframe to an interactive table.\"\n",
              "              style=\"display:none;\">\n",
              "        \n",
              "  <svg xmlns=\"http://www.w3.org/2000/svg\" height=\"24px\"viewBox=\"0 0 24 24\"\n",
              "       width=\"24px\">\n",
              "    <path d=\"M0 0h24v24H0V0z\" fill=\"none\"/>\n",
              "    <path d=\"M18.56 5.44l.94 2.06.94-2.06 2.06-.94-2.06-.94-.94-2.06-.94 2.06-2.06.94zm-11 1L8.5 8.5l.94-2.06 2.06-.94-2.06-.94L8.5 2.5l-.94 2.06-2.06.94zm10 10l.94 2.06.94-2.06 2.06-.94-2.06-.94-.94-2.06-.94 2.06-2.06.94z\"/><path d=\"M17.41 7.96l-1.37-1.37c-.4-.4-.92-.59-1.43-.59-.52 0-1.04.2-1.43.59L10.3 9.45l-7.72 7.72c-.78.78-.78 2.05 0 2.83L4 21.41c.39.39.9.59 1.41.59.51 0 1.02-.2 1.41-.59l7.78-7.78 2.81-2.81c.8-.78.8-2.07 0-2.86zM5.41 20L4 18.59l7.72-7.72 1.47 1.35L5.41 20z\"/>\n",
              "  </svg>\n",
              "      </button>\n",
              "      \n",
              "  <style>\n",
              "    .colab-df-container {\n",
              "      display:flex;\n",
              "      flex-wrap:wrap;\n",
              "      gap: 12px;\n",
              "    }\n",
              "\n",
              "    .colab-df-convert {\n",
              "      background-color: #E8F0FE;\n",
              "      border: none;\n",
              "      border-radius: 50%;\n",
              "      cursor: pointer;\n",
              "      display: none;\n",
              "      fill: #1967D2;\n",
              "      height: 32px;\n",
              "      padding: 0 0 0 0;\n",
              "      width: 32px;\n",
              "    }\n",
              "\n",
              "    .colab-df-convert:hover {\n",
              "      background-color: #E2EBFA;\n",
              "      box-shadow: 0px 1px 2px rgba(60, 64, 67, 0.3), 0px 1px 3px 1px rgba(60, 64, 67, 0.15);\n",
              "      fill: #174EA6;\n",
              "    }\n",
              "\n",
              "    [theme=dark] .colab-df-convert {\n",
              "      background-color: #3B4455;\n",
              "      fill: #D2E3FC;\n",
              "    }\n",
              "\n",
              "    [theme=dark] .colab-df-convert:hover {\n",
              "      background-color: #434B5C;\n",
              "      box-shadow: 0px 1px 3px 1px rgba(0, 0, 0, 0.15);\n",
              "      filter: drop-shadow(0px 1px 2px rgba(0, 0, 0, 0.3));\n",
              "      fill: #FFFFFF;\n",
              "    }\n",
              "  </style>\n",
              "\n",
              "      <script>\n",
              "        const buttonEl =\n",
              "          document.querySelector('#df-c5abd705-a37e-4e88-a02b-3fac50253399 button.colab-df-convert');\n",
              "        buttonEl.style.display =\n",
              "          google.colab.kernel.accessAllowed ? 'block' : 'none';\n",
              "\n",
              "        async function convertToInteractive(key) {\n",
              "          const element = document.querySelector('#df-c5abd705-a37e-4e88-a02b-3fac50253399');\n",
              "          const dataTable =\n",
              "            await google.colab.kernel.invokeFunction('convertToInteractive',\n",
              "                                                     [key], {});\n",
              "          if (!dataTable) return;\n",
              "\n",
              "          const docLinkHtml = 'Like what you see? Visit the ' +\n",
              "            '<a target=\"_blank\" href=https://colab.research.google.com/notebooks/data_table.ipynb>data table notebook</a>'\n",
              "            + ' to learn more about interactive tables.';\n",
              "          element.innerHTML = '';\n",
              "          dataTable['output_type'] = 'display_data';\n",
              "          await google.colab.output.renderOutput(dataTable, element);\n",
              "          const docLink = document.createElement('div');\n",
              "          docLink.innerHTML = docLinkHtml;\n",
              "          element.appendChild(docLink);\n",
              "        }\n",
              "      </script>\n",
              "    </div>\n",
              "  </div>\n",
              "  "
            ]
          },
          "metadata": {},
          "execution_count": 169
        }
      ]
    },
    {
      "cell_type": "code",
      "source": [
        "test_x = test_df[['bias', 'one', 'two', 'three', 'four', 'five']].values"
      ],
      "metadata": {
        "id": "Ldc2NQZqGBWG"
      },
      "execution_count": null,
      "outputs": []
    },
    {
      "cell_type": "code",
      "source": [
        "# scaler = StandardScaler()\n",
        "\n",
        "# scaler.fit(test_x)\n",
        "# test_x = scaler.transform(test_x)"
      ],
      "metadata": {
        "id": "CK_0f48HkwDV"
      },
      "execution_count": null,
      "outputs": []
    },
    {
      "cell_type": "code",
      "source": [
        "rf.predict(test_x)"
      ],
      "metadata": {
        "colab": {
          "base_uri": "https://localhost:8080/"
        },
        "id": "rxOOp6SKGJo7",
        "outputId": "ee7d90dc-51e8-4a46-eaad-56920ab44950"
      },
      "execution_count": null,
      "outputs": [
        {
          "output_type": "execute_result",
          "data": {
            "text/plain": [
              "array([5., 1., 2., ..., 1., 5., 5.])"
            ]
          },
          "metadata": {},
          "execution_count": 172
        }
      ]
    },
    {
      "cell_type": "code",
      "source": [
        "test_res = pd.DataFrame(rf.predict(test_x))"
      ],
      "metadata": {
        "id": "N7MwmublMt9m"
      },
      "execution_count": null,
      "outputs": []
    },
    {
      "cell_type": "code",
      "source": [
        "test_res.to_csv('./outran17.csv')"
      ],
      "metadata": {
        "id": "cdGbfzNOMyRp"
      },
      "execution_count": null,
      "outputs": []
    }
  ]
}